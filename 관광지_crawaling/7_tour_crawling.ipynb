{
 "cells": [
  {
   "cell_type": "code",
   "execution_count": 1,
   "id": "8308b218-b9c2-4362-850f-dafd6aadd3d6",
   "metadata": {},
   "outputs": [
    {
     "name": "stdout",
     "output_type": "stream",
     "text": [
      "Requirement already satisfied: selenium in /opt/homebrew/anaconda3/envs/mlstudy/lib/python3.10/site-packages (4.35.0)\n",
      "Requirement already satisfied: urllib3<3.0,>=2.5.0 in /opt/homebrew/anaconda3/envs/mlstudy/lib/python3.10/site-packages (from urllib3[socks]<3.0,>=2.5.0->selenium) (2.5.0)\n",
      "Requirement already satisfied: trio~=0.30.0 in /opt/homebrew/anaconda3/envs/mlstudy/lib/python3.10/site-packages (from selenium) (0.30.0)\n",
      "Requirement already satisfied: trio-websocket~=0.12.2 in /opt/homebrew/anaconda3/envs/mlstudy/lib/python3.10/site-packages (from selenium) (0.12.2)\n",
      "Requirement already satisfied: certifi>=2025.6.15 in /opt/homebrew/anaconda3/envs/mlstudy/lib/python3.10/site-packages (from selenium) (2025.8.3)\n",
      "Requirement already satisfied: typing_extensions~=4.14.0 in /opt/homebrew/anaconda3/envs/mlstudy/lib/python3.10/site-packages (from selenium) (4.14.1)\n",
      "Requirement already satisfied: websocket-client~=1.8.0 in /opt/homebrew/anaconda3/envs/mlstudy/lib/python3.10/site-packages (from selenium) (1.8.0)\n",
      "Requirement already satisfied: attrs>=23.2.0 in /opt/homebrew/anaconda3/envs/mlstudy/lib/python3.10/site-packages (from trio~=0.30.0->selenium) (25.3.0)\n",
      "Requirement already satisfied: sortedcontainers in /opt/homebrew/anaconda3/envs/mlstudy/lib/python3.10/site-packages (from trio~=0.30.0->selenium) (2.4.0)\n",
      "Requirement already satisfied: idna in /opt/homebrew/anaconda3/envs/mlstudy/lib/python3.10/site-packages (from trio~=0.30.0->selenium) (3.10)\n",
      "Requirement already satisfied: outcome in /opt/homebrew/anaconda3/envs/mlstudy/lib/python3.10/site-packages (from trio~=0.30.0->selenium) (1.3.0.post0)\n",
      "Requirement already satisfied: sniffio>=1.3.0 in /opt/homebrew/anaconda3/envs/mlstudy/lib/python3.10/site-packages (from trio~=0.30.0->selenium) (1.3.1)\n",
      "Requirement already satisfied: exceptiongroup in /opt/homebrew/anaconda3/envs/mlstudy/lib/python3.10/site-packages (from trio~=0.30.0->selenium) (1.3.0)\n",
      "Requirement already satisfied: wsproto>=0.14 in /opt/homebrew/anaconda3/envs/mlstudy/lib/python3.10/site-packages (from trio-websocket~=0.12.2->selenium) (1.2.0)\n",
      "Requirement already satisfied: pysocks!=1.5.7,<2.0,>=1.5.6 in /opt/homebrew/anaconda3/envs/mlstudy/lib/python3.10/site-packages (from urllib3[socks]<3.0,>=2.5.0->selenium) (1.7.1)\n",
      "Requirement already satisfied: h11<1,>=0.9.0 in /opt/homebrew/anaconda3/envs/mlstudy/lib/python3.10/site-packages (from wsproto>=0.14->trio-websocket~=0.12.2->selenium) (0.16.0)\n",
      "Collecting bs4\n",
      "  Downloading bs4-0.0.2-py2.py3-none-any.whl.metadata (411 bytes)\n",
      "Collecting beautifulsoup4 (from bs4)\n",
      "  Downloading beautifulsoup4-4.14.0-py3-none-any.whl.metadata (3.8 kB)\n",
      "Collecting soupsieve>1.2 (from beautifulsoup4->bs4)\n",
      "  Downloading soupsieve-2.8-py3-none-any.whl.metadata (4.6 kB)\n",
      "Requirement already satisfied: typing-extensions>=4.0.0 in /opt/homebrew/anaconda3/envs/mlstudy/lib/python3.10/site-packages (from beautifulsoup4->bs4) (4.14.1)\n",
      "Downloading bs4-0.0.2-py2.py3-none-any.whl (1.2 kB)\n",
      "Downloading beautifulsoup4-4.14.0-py3-none-any.whl (106 kB)\n",
      "Downloading soupsieve-2.8-py3-none-any.whl (36 kB)\n",
      "Installing collected packages: soupsieve, beautifulsoup4, bs4\n",
      "\u001b[2K   \u001b[38;2;114;156;31m━━━━━━━━━━━━━━━━━━━━━━━━━━━━━━━━━━━━━━━━\u001b[0m \u001b[32m3/3\u001b[0m [bs4]\n",
      "\u001b[1A\u001b[2KSuccessfully installed beautifulsoup4-4.14.0 bs4-0.0.2 soupsieve-2.8\n",
      "Requirement already satisfied: requests in /opt/homebrew/anaconda3/envs/mlstudy/lib/python3.10/site-packages (2.32.5)\n",
      "Requirement already satisfied: charset_normalizer<4,>=2 in /opt/homebrew/anaconda3/envs/mlstudy/lib/python3.10/site-packages (from requests) (3.4.3)\n",
      "Requirement already satisfied: idna<4,>=2.5 in /opt/homebrew/anaconda3/envs/mlstudy/lib/python3.10/site-packages (from requests) (3.10)\n",
      "Requirement already satisfied: urllib3<3,>=1.21.1 in /opt/homebrew/anaconda3/envs/mlstudy/lib/python3.10/site-packages (from requests) (2.5.0)\n",
      "Requirement already satisfied: certifi>=2017.4.17 in /opt/homebrew/anaconda3/envs/mlstudy/lib/python3.10/site-packages (from requests) (2025.8.3)\n",
      "Requirement already satisfied: urllib3 in /opt/homebrew/anaconda3/envs/mlstudy/lib/python3.10/site-packages (2.5.0)\n",
      "Collecting webdriver_manager\n",
      "  Downloading webdriver_manager-4.0.2-py2.py3-none-any.whl.metadata (12 kB)\n",
      "Requirement already satisfied: requests in /opt/homebrew/anaconda3/envs/mlstudy/lib/python3.10/site-packages (from webdriver_manager) (2.32.5)\n",
      "Requirement already satisfied: python-dotenv in /opt/homebrew/anaconda3/envs/mlstudy/lib/python3.10/site-packages (from webdriver_manager) (1.1.1)\n",
      "Requirement already satisfied: packaging in /opt/homebrew/anaconda3/envs/mlstudy/lib/python3.10/site-packages (from webdriver_manager) (25.0)\n",
      "Requirement already satisfied: charset_normalizer<4,>=2 in /opt/homebrew/anaconda3/envs/mlstudy/lib/python3.10/site-packages (from requests->webdriver_manager) (3.4.3)\n",
      "Requirement already satisfied: idna<4,>=2.5 in /opt/homebrew/anaconda3/envs/mlstudy/lib/python3.10/site-packages (from requests->webdriver_manager) (3.10)\n",
      "Requirement already satisfied: urllib3<3,>=1.21.1 in /opt/homebrew/anaconda3/envs/mlstudy/lib/python3.10/site-packages (from requests->webdriver_manager) (2.5.0)\n",
      "Requirement already satisfied: certifi>=2017.4.17 in /opt/homebrew/anaconda3/envs/mlstudy/lib/python3.10/site-packages (from requests->webdriver_manager) (2025.8.3)\n",
      "Downloading webdriver_manager-4.0.2-py2.py3-none-any.whl (27 kB)\n",
      "Installing collected packages: webdriver_manager\n",
      "Successfully installed webdriver_manager-4.0.2\n",
      "Collecting openpyxl\n",
      "  Downloading openpyxl-3.1.5-py2.py3-none-any.whl.metadata (2.5 kB)\n",
      "Collecting et-xmlfile (from openpyxl)\n",
      "  Downloading et_xmlfile-2.0.0-py3-none-any.whl.metadata (2.7 kB)\n",
      "Downloading openpyxl-3.1.5-py2.py3-none-any.whl (250 kB)\n",
      "Downloading et_xmlfile-2.0.0-py3-none-any.whl (18 kB)\n",
      "Installing collected packages: et-xmlfile, openpyxl\n",
      "\u001b[2K   \u001b[38;2;114;156;31m━━━━━━━━━━━━━━━━━━━━━━━━━━━━━━━━━━━━━━━━\u001b[0m \u001b[32m2/2\u001b[0m [openpyxl]\n",
      "\u001b[1A\u001b[2KSuccessfully installed et-xmlfile-2.0.0 openpyxl-3.1.5\n",
      "Collecting xlrd\n",
      "  Downloading xlrd-2.0.2-py2.py3-none-any.whl.metadata (3.5 kB)\n",
      "Downloading xlrd-2.0.2-py2.py3-none-any.whl (96 kB)\n",
      "Installing collected packages: xlrd\n",
      "Successfully installed xlrd-2.0.2\n",
      "Collecting datetime\n",
      "  Downloading DateTime-5.5-py3-none-any.whl.metadata (33 kB)\n",
      "Collecting zope.interface (from datetime)\n",
      "  Downloading zope_interface-8.0.1-cp310-cp310-macosx_11_0_arm64.whl.metadata (44 kB)\n",
      "Collecting pytz (from datetime)\n",
      "  Downloading pytz-2025.2-py2.py3-none-any.whl.metadata (22 kB)\n",
      "Downloading DateTime-5.5-py3-none-any.whl (52 kB)\n",
      "Downloading pytz-2025.2-py2.py3-none-any.whl (509 kB)\n",
      "Downloading zope_interface-8.0.1-cp310-cp310-macosx_11_0_arm64.whl (207 kB)\n",
      "Installing collected packages: pytz, zope.interface, datetime\n",
      "\u001b[2K   \u001b[38;2;114;156;31m━━━━━━━━━━━━━━━━━━━━━━━━━━━━━━━━━━━━━━━━\u001b[0m \u001b[32m3/3\u001b[0m [datetime]━━\u001b[0m \u001b[32m1/3\u001b[0m [zope.interface]\n",
      "\u001b[1A\u001b[2KSuccessfully installed datetime-5.5 pytz-2025.2 zope.interface-8.0.1\n",
      "Collecting lxml\n",
      "  Downloading lxml-6.0.2-cp310-cp310-macosx_10_9_universal2.whl.metadata (3.6 kB)\n",
      "Downloading lxml-6.0.2-cp310-cp310-macosx_10_9_universal2.whl (8.6 MB)\n",
      "\u001b[2K   \u001b[38;2;114;156;31m━━━━━━━━━━━━━━━━━━━━━━━━━━━━━━━━━━━━━━━━\u001b[0m \u001b[32m8.6/8.6 MB\u001b[0m \u001b[31m4.7 MB/s\u001b[0m  \u001b[33m0:00:01\u001b[0ma \u001b[36m0:00:01\u001b[0m[36m0:00:01\u001b[0m:01\u001b[0m\n",
      "\u001b[?25hInstalling collected packages: lxml\n",
      "Successfully installed lxml-6.0.2\n",
      "Collecting pandas\n",
      "  Downloading pandas-2.3.2-cp310-cp310-macosx_11_0_arm64.whl.metadata (91 kB)\n",
      "Collecting numpy>=1.22.4 (from pandas)\n",
      "  Using cached numpy-2.2.6-cp310-cp310-macosx_14_0_arm64.whl.metadata (62 kB)\n",
      "Requirement already satisfied: python-dateutil>=2.8.2 in /opt/homebrew/anaconda3/envs/mlstudy/lib/python3.10/site-packages (from pandas) (2.9.0.post0)\n",
      "Requirement already satisfied: pytz>=2020.1 in /opt/homebrew/anaconda3/envs/mlstudy/lib/python3.10/site-packages (from pandas) (2025.2)\n",
      "Collecting tzdata>=2022.7 (from pandas)\n",
      "  Downloading tzdata-2025.2-py2.py3-none-any.whl.metadata (1.4 kB)\n",
      "Requirement already satisfied: six>=1.5 in /opt/homebrew/anaconda3/envs/mlstudy/lib/python3.10/site-packages (from python-dateutil>=2.8.2->pandas) (1.17.0)\n",
      "Downloading pandas-2.3.2-cp310-cp310-macosx_11_0_arm64.whl (10.8 MB)\n",
      "\u001b[2K   \u001b[38;2;114;156;31m━━━━━━━━━━━━━━━━━━━━━━━━━━━━━━━━━━━━━━━━\u001b[0m \u001b[32m10.8/10.8 MB\u001b[0m \u001b[31m6.5 MB/s\u001b[0m  \u001b[33m0:00:01\u001b[0mm \u001b[31m6.6 MB/s\u001b[0m eta \u001b[36m0:00:01\u001b[0m\n",
      "\u001b[?25hUsing cached numpy-2.2.6-cp310-cp310-macosx_14_0_arm64.whl (5.3 MB)\n",
      "Downloading tzdata-2025.2-py2.py3-none-any.whl (347 kB)\n",
      "Installing collected packages: tzdata, numpy, pandas\n",
      "\u001b[2K   \u001b[38;2;114;156;31m━━━━━━━━━━━━━━━━━━━━━━━━━━━━━━━━━━━━━━━━\u001b[0m \u001b[32m3/3\u001b[0m [pandas]━━━━━━━━━━━\u001b[0m \u001b[32m2/3\u001b[0m [pandas]\n",
      "\u001b[1A\u001b[2KSuccessfully installed numpy-2.2.6 pandas-2.3.2 tzdata-2025.2\n"
     ]
    }
   ],
   "source": [
    "!pip install selenium\n",
    "!pip install bs4\n",
    "!pip install requests\n",
    "!pip install urllib3\n",
    "!pip install webdriver_manager\n",
    "!pip install openpyxl\n",
    "!pip install xlrd\n",
    "!pip install datetime\n",
    "!pip install lxml\n",
    "!pip install pandas\n",
    "#다 한 다음에 주피터 노트북 완전 껐다가 재 실행(이 브라우저 창만 끄지말고 아예 꺼야함)"
   ]
  },
  {
   "cell_type": "code",
   "execution_count": 3,
   "id": "7e771f9a-4dd1-4632-833d-aee1e5be64de",
   "metadata": {
    "scrolled": true
   },
   "outputs": [],
   "source": [
    "## 필요한 패키지 로딩 \n",
    "import time\n",
    "start_time = time.time() \n",
    "import datetime\n",
    "import requests\n",
    "import selenium\n",
    "import lxml\n",
    "import re\n",
    "import warnings \n",
    "warnings.filterwarnings('ignore')\n",
    "\n",
    "from selenium.webdriver.common.by import By\n",
    "from urllib3.util.retry import Retry\n",
    "from requests.adapters import HTTPAdapter\n",
    "from openpyxl import Workbook\n",
    "from bs4 import BeautifulSoup\n",
    "from selenium import webdriver\n",
    "from webdriver_manager.chrome import ChromeDriverManager\n",
    "from selenium.webdriver.common.keys import Keys\n",
    "from selenium.webdriver.support.ui import WebDriverWait\n",
    "from selenium.webdriver.support import expected_conditions as EC\n",
    "from requests.packages.urllib3.util.retry import Retry\n",
    "from selenium import webdriver"
   ]
  },
  {
   "cell_type": "code",
   "execution_count": 4,
   "id": "ee7b0e7d-445d-4c14-8d3e-df4b87957909",
   "metadata": {},
   "outputs": [
    {
     "name": "stdout",
     "output_type": "stream",
     "text": [
      "🚀 JSONL 네이버 플레이스 리뷰 크롤러\n",
      "============================================================\n",
      "📊 총 처리할 항목: 152개\n"
     ]
    },
    {
     "name": "stderr",
     "output_type": "stream",
     "text": [
      "🔍 리뷰 크롤링 중:   0%|          | 0/152 [00:00<?, ?it/s]"
     ]
    },
    {
     "name": "stdout",
     "output_type": "stream",
     "text": [
      "\n",
      "📍 처리중 (1/152): 국립대관령자연휴양림 (ID: 11491009)\n",
      "✅ sub_category: 휴양림,산림욕장\n",
      "✅ visiter_review_count: 771\n",
      "✅ blog_review_count: 550\n",
      "✅ reviews_attraction: 10개 수집\n"
     ]
    },
    {
     "name": "stderr",
     "output_type": "stream",
     "text": [
      "🔍 리뷰 크롤링 중:   1%|          | 1/152 [00:27<1:08:22, 27.17s/it]"
     ]
    },
    {
     "name": "stdout",
     "output_type": "stream",
     "text": [
      "\n",
      "📍 처리중 (2/152): 경포도립공원 (ID: 13300191)\n",
      "✅ sub_category: 도립공원\n",
      "✅ visiter_review_count: 26\n",
      "✅ blog_review_count: 69\n",
      "✅ reviews_attraction: 10개 수집\n"
     ]
    },
    {
     "name": "stderr",
     "output_type": "stream",
     "text": [
      "🔍 리뷰 크롤링 중:   1%|▏         | 2/152 [00:48<59:06, 23.64s/it]  "
     ]
    },
    {
     "name": "stdout",
     "output_type": "stream",
     "text": [
      "\n",
      "📍 처리중 (3/152): 제왕산 (ID: 15700020)\n",
      "✅ sub_category: 산\n",
      "✅ visiter_review_count: 3\n",
      "✅ blog_review_count: 128\n",
      "✅ reviews_attraction: 3개 수집\n"
     ]
    },
    {
     "name": "stderr",
     "output_type": "stream",
     "text": [
      "🔍 리뷰 크롤링 중:   2%|▏         | 3/152 [01:00<45:10, 18.19s/it]"
     ]
    },
    {
     "name": "stdout",
     "output_type": "stream",
     "text": [
      "\n",
      "📍 처리중 (4/152): 사근진해중공원 전망대 (ID: 1338629806)\n",
      "✅ sub_category: 전망대\n",
      "✅ visiter_review_count: 40\n",
      "✅ blog_review_count: 313\n",
      "✅ reviews_attraction: 10개 수집\n"
     ]
    },
    {
     "name": "stderr",
     "output_type": "stream",
     "text": [
      "🔍 리뷰 크롤링 중:   3%|▎         | 4/152 [01:14<41:32, 16.84s/it]"
     ]
    },
    {
     "name": "stdout",
     "output_type": "stream",
     "text": [
      "\n",
      "📍 처리중 (5/152): 노인봉 (ID: 13491315)\n",
      "✅ sub_category: 봉우리,고지\n",
      "✅ visiter_review_count: 18\n",
      "✅ blog_review_count: 573\n",
      "✅ reviews_attraction: 10개 수집\n"
     ]
    },
    {
     "name": "stderr",
     "output_type": "stream",
     "text": [
      "🔍 리뷰 크롤링 중:   3%|▎         | 5/152 [01:30<39:54, 16.29s/it]"
     ]
    },
    {
     "name": "stdout",
     "output_type": "stream",
     "text": [
      "\n",
      "📍 처리중 (6/152): 단경골 휴양지 (ID: 19748069)\n",
      "✅ sub_category: 자연명소\n",
      "✅ visiter_review_count: 3\n",
      "✅ blog_review_count: 13\n",
      "✅ reviews_attraction: 2개 수집\n"
     ]
    },
    {
     "name": "stderr",
     "output_type": "stream",
     "text": [
      "🔍 리뷰 크롤링 중:   4%|▍         | 6/152 [01:39<34:03, 14.00s/it]"
     ]
    },
    {
     "name": "stdout",
     "output_type": "stream",
     "text": [
      "\n",
      "📍 처리중 (7/152): 구룡폭포 (ID: 13491884)\n",
      "✅ sub_category: 폭포\n",
      "✅ visiter_review_count: 4\n",
      "✅ blog_review_count: 62\n",
      "✅ reviews_attraction: 4개 수집\n"
     ]
    },
    {
     "name": "stderr",
     "output_type": "stream",
     "text": [
      "🔍 리뷰 크롤링 중:   5%|▍         | 7/152 [01:48<30:07, 12.46s/it]"
     ]
    },
    {
     "name": "stdout",
     "output_type": "stream",
     "text": [
      "\n",
      "📍 처리중 (8/152): 남항진해변 (ID: 13491444)\n",
      "✅ sub_category: 해수욕장,해변\n",
      "✅ visiter_review_count: 82\n",
      "✅ blog_review_count: 642\n",
      "✅ reviews_attraction: 10개 수집\n"
     ]
    },
    {
     "name": "stderr",
     "output_type": "stream",
     "text": [
      "🔍 리뷰 크롤링 중:   5%|▌         | 8/152 [02:00<29:00, 12.08s/it]"
     ]
    },
    {
     "name": "stdout",
     "output_type": "stream",
     "text": [
      "\n",
      "📍 처리중 (9/152): 송정해변 (ID: 20065935)\n",
      "✅ sub_category: 해수욕장,해변\n",
      "✅ visiter_review_count: 222\n",
      "✅ blog_review_count: 1318\n",
      "✅ reviews_attraction: 10개 수집\n"
     ]
    },
    {
     "name": "stderr",
     "output_type": "stream",
     "text": [
      "🔍 리뷰 크롤링 중:   6%|▌         | 9/152 [02:12<28:46, 12.08s/it]"
     ]
    },
    {
     "name": "stdout",
     "output_type": "stream",
     "text": [
      "\n",
      "📍 처리중 (10/152): 등명해변 (ID: 13491470)\n",
      "✅ sub_category: 해수욕장,해변\n",
      "✅ visiter_review_count: 32\n",
      "✅ blog_review_count: 421\n",
      "✅ reviews_attraction: 10개 수집\n"
     ]
    },
    {
     "name": "stderr",
     "output_type": "stream",
     "text": [
      "🔍 리뷰 크롤링 중:   7%|▋         | 10/152 [02:23<28:09, 11.90s/it]"
     ]
    },
    {
     "name": "stdout",
     "output_type": "stream",
     "text": [
      "\n",
      "📍 처리중 (11/152): 사천해변 (ID: 13491268)\n",
      "✅ sub_category: 해수욕장,해변\n",
      "✅ visiter_review_count: 185\n",
      "✅ blog_review_count: 1915\n",
      "✅ reviews_attraction: 10개 수집\n"
     ]
    },
    {
     "name": "stderr",
     "output_type": "stream",
     "text": [
      "🔍 리뷰 크롤링 중:   7%|▋         | 11/152 [02:34<27:17, 11.61s/it]"
     ]
    },
    {
     "name": "stdout",
     "output_type": "stream",
     "text": [
      "\n",
      "📍 처리중 (12/152): 신사임당사친시비 (ID: 15699373)\n",
      "✅ sub_category: 기념물\n",
      "✅ visiter_review_count: 5\n",
      "✅ blog_review_count: 32\n",
      "✅ reviews_attraction: 4개 수집\n"
     ]
    },
    {
     "name": "stderr",
     "output_type": "stream",
     "text": [
      "🔍 리뷰 크롤링 중:   8%|▊         | 12/152 [02:44<25:55, 11.11s/it]"
     ]
    },
    {
     "name": "stdout",
     "output_type": "stream",
     "text": [
      "\n",
      "📍 처리중 (13/152): 안인해변 (ID: 13491186)\n",
      "✅ sub_category: 해수욕장,해변\n",
      "✅ visiter_review_count: 21\n",
      "✅ blog_review_count: 261\n",
      "✅ reviews_attraction: 10개 수집\n"
     ]
    },
    {
     "name": "stderr",
     "output_type": "stream",
     "text": [
      "🔍 리뷰 크롤링 중:   9%|▊         | 13/152 [02:55<25:18, 10.93s/it]"
     ]
    },
    {
     "name": "stdout",
     "output_type": "stream",
     "text": [
      "\n",
      "📍 처리중 (14/152): 연곡해변 (ID: 13444336)\n",
      "✅ sub_category: 해수욕장,해변\n",
      "✅ visiter_review_count: 52\n",
      "✅ blog_review_count: 280\n",
      "✅ reviews_attraction: 10개 수집\n"
     ]
    },
    {
     "name": "stderr",
     "output_type": "stream",
     "text": [
      "🔍 리뷰 크롤링 중:   9%|▉         | 14/152 [03:06<25:15, 10.98s/it]"
     ]
    },
    {
     "name": "stdout",
     "output_type": "stream",
     "text": [
      "\n",
      "📍 처리중 (15/152): 주문진해수욕장 (ID: 13491005)\n",
      "✅ sub_category: 해수욕장,해변\n",
      "✅ visiter_review_count: 236\n",
      "✅ blog_review_count: 1498\n",
      "✅ reviews_attraction: 10개 수집\n"
     ]
    },
    {
     "name": "stderr",
     "output_type": "stream",
     "text": [
      "🔍 리뷰 크롤링 중:  10%|▉         | 15/152 [03:17<25:02, 10.97s/it]"
     ]
    },
    {
     "name": "stdout",
     "output_type": "stream",
     "text": [
      "\n",
      "📍 처리중 (16/152): 남대천 (ID: 13491494)\n",
      "✅ sub_category: 강,하천\n",
      "✅ visiter_review_count: 23\n",
      "✅ blog_review_count: 194\n",
      "✅ reviews_attraction: 10개 수집\n"
     ]
    },
    {
     "name": "stderr",
     "output_type": "stream",
     "text": [
      "🔍 리뷰 크롤링 중:  11%|█         | 16/152 [03:28<24:56, 11.00s/it]"
     ]
    },
    {
     "name": "stdout",
     "output_type": "stream",
     "text": [
      "\n",
      "📍 처리중 (17/152): 등명낙가사 (ID: 11663897)\n",
      "✅ sub_category: 절,사찰\n",
      "✅ blog_review_count: 275\n",
      "✅ reviews_attraction: 0개 수집\n"
     ]
    },
    {
     "name": "stderr",
     "output_type": "stream",
     "text": [
      "🔍 리뷰 크롤링 중:  11%|█         | 17/152 [03:54<34:53, 15.51s/it]"
     ]
    },
    {
     "name": "stdout",
     "output_type": "stream",
     "text": [
      "\n",
      "📍 처리중 (18/152): 보현사 (ID: 11663898)\n",
      "✅ sub_category: 절,사찰\n",
      "✅ blog_review_count: 182\n",
      "✅ reviews_attraction: 0개 수집\n"
     ]
    },
    {
     "name": "stderr",
     "output_type": "stream",
     "text": [
      "🔍 리뷰 크롤링 중:  12%|█▏        | 18/152 [04:20<42:02, 18.82s/it]"
     ]
    },
    {
     "name": "stdout",
     "output_type": "stream",
     "text": [
      "\n",
      "📍 처리중 (19/152): 강릉 굴산사지 (ID: 15700882)\n",
      "✅ sub_category: 절,사찰\n",
      "✅ blog_review_count: 45\n",
      "✅ reviews_attraction: 0개 수집\n"
     ]
    },
    {
     "name": "stderr",
     "output_type": "stream",
     "text": [
      "🔍 리뷰 크롤링 중:  12%|█▎        | 19/152 [04:49<47:55, 21.62s/it]"
     ]
    },
    {
     "name": "stdout",
     "output_type": "stream",
     "text": [
      "\n",
      "📍 처리중 (20/152): 강릉 금강사 (ID: 37260285)\n",
      "✅ sub_category: 절,사찰\n",
      "✅ blog_review_count: 13\n",
      "✅ reviews_attraction: 0개 수집\n"
     ]
    },
    {
     "name": "stderr",
     "output_type": "stream",
     "text": [
      "🔍 리뷰 크롤링 중:  13%|█▎        | 20/152 [05:15<50:46, 23.08s/it]"
     ]
    },
    {
     "name": "stdout",
     "output_type": "stream",
     "text": [
      "\n",
      "📍 처리중 (21/152): 강릉향교 (ID: 11663849)\n",
      "✅ sub_category: 문화,유적\n",
      "✅ visiter_review_count: 7\n",
      "✅ blog_review_count: 128\n",
      "✅ reviews_attraction: 7개 수집\n"
     ]
    },
    {
     "name": "stderr",
     "output_type": "stream",
     "text": [
      "🔍 리뷰 크롤링 중:  14%|█▍        | 21/152 [05:26<42:46, 19.59s/it]"
     ]
    },
    {
     "name": "stdout",
     "output_type": "stream",
     "text": [
      "\n",
      "📍 처리중 (22/152): 강릉 임영관 삼문 (ID: 749351147)\n",
      "✅ sub_category: 문화,유적\n",
      "✅ visiter_review_count: 1\n",
      "✅ blog_review_count: 41\n",
      "✅ reviews_attraction: 1개 수집\n"
     ]
    },
    {
     "name": "stderr",
     "output_type": "stream",
     "text": [
      "🔍 리뷰 크롤링 중:  14%|█▍        | 22/152 [05:35<35:17, 16.29s/it]"
     ]
    },
    {
     "name": "stdout",
     "output_type": "stream",
     "text": [
      "\n",
      "📍 처리중 (23/152): 강릉 경포대 (ID: 1675156043)\n",
      "✅ sub_category: 호텔\n",
      "✅ visiter_review_count: 9323\n",
      "✅ blog_review_count: 11948\n",
      "✅ reviews_attraction: 10개 수집\n"
     ]
    },
    {
     "name": "stderr",
     "output_type": "stream",
     "text": [
      "🔍 리뷰 크롤링 중:  15%|█▌        | 23/152 [05:46<31:22, 14.59s/it]"
     ]
    },
    {
     "name": "stdout",
     "output_type": "stream",
     "text": [
      "\n",
      "📍 처리중 (24/152): 강릉 송담서원 (ID: 20103261)\n",
      "✅ sub_category: 국가유산\n",
      "✅ visiter_review_count: 2\n",
      "✅ blog_review_count: 9\n",
      "✅ reviews_attraction: 1개 수집\n"
     ]
    },
    {
     "name": "stderr",
     "output_type": "stream",
     "text": [
      "🔍 리뷰 크롤링 중:  16%|█▌        | 24/152 [05:54<27:12, 12.75s/it]"
     ]
    },
    {
     "name": "stdout",
     "output_type": "stream",
     "text": [
      "\n",
      "📍 처리중 (25/152): 강릉 선교장 (ID: 11687693)\n",
      "✅ sub_category: 국가유산\n",
      "✅ visiter_review_count: 502\n",
      "✅ blog_review_count: 2210\n",
      "✅ reviews_attraction: 10개 수집\n"
     ]
    },
    {
     "name": "stderr",
     "output_type": "stream",
     "text": [
      "🔍 리뷰 크롤링 중:  16%|█▋        | 25/152 [06:06<26:22, 12.46s/it]"
     ]
    },
    {
     "name": "stdout",
     "output_type": "stream",
     "text": [
      "\n",
      "📍 처리중 (26/152): 부연동마을 (ID: 12901526)\n",
      "✅ sub_category: 체험마을\n",
      "✅ visiter_review_count: 8\n",
      "✅ blog_review_count: 15\n",
      "✅ reviews_attraction: 4개 수집\n"
     ]
    },
    {
     "name": "stderr",
     "output_type": "stream",
     "text": [
      "🔍 리뷰 크롤링 중:  17%|█▋        | 26/152 [06:14<23:33, 11.22s/it]"
     ]
    },
    {
     "name": "stdout",
     "output_type": "stream",
     "text": [
      "\n",
      "📍 처리중 (27/152): 강릉 대공산성 (ID: 15699044)\n",
      "✅ sub_category: 기념물\n",
      "✅ blog_review_count: 4\n",
      "✅ reviews_attraction: 0개 수집\n"
     ]
    },
    {
     "name": "stderr",
     "output_type": "stream",
     "text": [
      "🔍 리뷰 크롤링 중:  18%|█▊        | 27/152 [06:40<32:33, 15.62s/it]"
     ]
    },
    {
     "name": "stdout",
     "output_type": "stream",
     "text": [
      "\n",
      "📍 처리중 (28/152): 강릉 통일공원 (ID: 1955462654)\n",
      "✅ sub_category: 주차장\n",
      "✅ blog_review_count: 3\n",
      "✅ reviews_attraction: 0개 수집\n"
     ]
    },
    {
     "name": "stderr",
     "output_type": "stream",
     "text": [
      "🔍 리뷰 크롤링 중:  18%|█▊        | 28/152 [07:06<38:41, 18.72s/it]"
     ]
    },
    {
     "name": "stdout",
     "output_type": "stream",
     "text": [
      "\n",
      "📍 처리중 (29/152): 안목해변 (ID: 13491906)\n",
      "✅ sub_category: 해수욕장,해변\n",
      "✅ visiter_review_count: 695\n",
      "✅ blog_review_count: 9022\n",
      "✅ reviews_attraction: 10개 수집\n"
     ]
    },
    {
     "name": "stderr",
     "output_type": "stream",
     "text": [
      "🔍 리뷰 크롤링 중:  19%|█▉        | 29/152 [07:17<33:43, 16.45s/it]"
     ]
    },
    {
     "name": "stdout",
     "output_type": "stream",
     "text": [
      "\n",
      "📍 처리중 (30/152): 오대산 소금강계곡 (ID: 13491923)\n",
      "✅ sub_category: 계곡\n",
      "✅ visiter_review_count: 26\n",
      "✅ blog_review_count: 408\n",
      "✅ reviews_attraction: 10개 수집\n"
     ]
    },
    {
     "name": "stderr",
     "output_type": "stream",
     "text": [
      "🔍 리뷰 크롤링 중:  20%|█▉        | 30/152 [07:27<29:35, 14.55s/it]"
     ]
    },
    {
     "name": "stdout",
     "output_type": "stream",
     "text": [
      "\n",
      "📍 처리중 (31/152): 경포호 (ID: 13491109)\n",
      "✅ sub_category: 호수,연못,저수지\n",
      "✅ visiter_review_count: 208\n",
      "✅ blog_review_count: 2976\n",
      "✅ reviews_attraction: 10개 수집\n"
     ]
    },
    {
     "name": "stderr",
     "output_type": "stream",
     "text": [
      "🔍 리뷰 크롤링 중:  20%|██        | 31/152 [07:41<28:30, 14.13s/it]"
     ]
    },
    {
     "name": "stdout",
     "output_type": "stream",
     "text": [
      "\n",
      "📍 처리중 (32/152): 옥계해변 (ID: 13444970)\n",
      "✅ sub_category: 해수욕장,해변\n",
      "✅ visiter_review_count: 18\n",
      "✅ blog_review_count: 334\n",
      "✅ reviews_attraction: 10개 수집\n"
     ]
    },
    {
     "name": "stderr",
     "output_type": "stream",
     "text": [
      "🔍 리뷰 크롤링 중:  21%|██        | 32/152 [07:53<27:13, 13.62s/it]"
     ]
    },
    {
     "name": "stdout",
     "output_type": "stream",
     "text": [
      "\n",
      "📍 처리중 (33/152): 강릉 대기리마을 (ID: 32960136)\n",
      "✅ sub_category: 체험마을\n",
      "✅ blog_review_count: 20\n",
      "✅ reviews_attraction: 0개 수집\n"
     ]
    },
    {
     "name": "stderr",
     "output_type": "stream",
     "text": [
      "🔍 리뷰 크롤링 중:  22%|██▏       | 33/152 [08:20<34:59, 17.64s/it]"
     ]
    },
    {
     "name": "stdout",
     "output_type": "stream",
     "text": [
      "\n",
      "📍 처리중 (34/152): 강릉 복사꽃마을 (ID: 12390002)\n",
      "✅ sub_category: 체험마을\n",
      "✅ visiter_review_count: 6\n",
      "✅ blog_review_count: 159\n",
      "✅ reviews_attraction: 3개 수집\n"
     ]
    },
    {
     "name": "stderr",
     "output_type": "stream",
     "text": [
      "🔍 리뷰 크롤링 중:  22%|██▏       | 34/152 [08:30<29:54, 15.21s/it]"
     ]
    },
    {
     "name": "stdout",
     "output_type": "stream",
     "text": [
      "\n",
      "📍 처리중 (35/152): 강릉 한울타리마을 (ID: 1378194684)\n",
      "✅ sub_category: 체험마을\n",
      "✅ visiter_review_count: 311\n",
      "✅ blog_review_count: 57\n",
      "✅ reviews_attraction: 10개 수집\n"
     ]
    },
    {
     "name": "stderr",
     "output_type": "stream",
     "text": [
      "🔍 리뷰 크롤링 중:  23%|██▎       | 35/152 [08:42<28:11, 14.46s/it]"
     ]
    },
    {
     "name": "stdout",
     "output_type": "stream",
     "text": [
      "\n",
      "📍 처리중 (36/152): 모래시계공원 (ID: 11620713)\n",
      "✅ sub_category: 도시,테마공원\n",
      "✅ visiter_review_count: 58\n",
      "✅ blog_review_count: 1127\n",
      "✅ reviews_attraction: 10개 수집\n"
     ]
    },
    {
     "name": "stderr",
     "output_type": "stream",
     "text": [
      "🔍 리뷰 크롤링 중:  24%|██▎       | 36/152 [08:53<25:56, 13.42s/it]"
     ]
    },
    {
     "name": "stdout",
     "output_type": "stream",
     "text": [
      "\n",
      "📍 처리중 (37/152): 칠성산 (ID: 13491515)\n",
      "✅ sub_category: 산\n",
      "✅ blog_review_count: 10\n",
      "✅ reviews_attraction: 0개 수집\n"
     ]
    },
    {
     "name": "stderr",
     "output_type": "stream",
     "text": [
      "🔍 리뷰 크롤링 중:  24%|██▍       | 37/152 [09:20<33:38, 17.55s/it]"
     ]
    },
    {
     "name": "stdout",
     "output_type": "stream",
     "text": [
      "\n",
      "📍 처리중 (38/152): 오봉서원 (ID: 20108403)\n",
      "✅ sub_category: 국가유산\n",
      "✅ blog_review_count: 21\n",
      "✅ reviews_attraction: 0개 수집\n"
     ]
    },
    {
     "name": "stderr",
     "output_type": "stream",
     "text": [
      "🔍 리뷰 크롤링 중:  25%|██▌       | 38/152 [09:47<38:24, 20.22s/it]"
     ]
    },
    {
     "name": "stdout",
     "output_type": "stream",
     "text": [
      "\n",
      "📍 처리중 (39/152): 강릉 용연사 (ID: 973348082)\n",
      "✅ sub_category: 절,사찰\n",
      "✅ blog_review_count: 64\n",
      "✅ reviews_attraction: 0개 수집\n"
     ]
    },
    {
     "name": "stderr",
     "output_type": "stream",
     "text": [
      "🔍 리뷰 크롤링 중:  26%|██▌       | 39/152 [10:13<41:23, 21.98s/it]"
     ]
    },
    {
     "name": "stdout",
     "output_type": "stream",
     "text": [
      "\n",
      "📍 처리중 (40/152): 사근진해변 (ID: 15371716)\n",
      "✅ sub_category: 해수욕장,해변\n",
      "✅ visiter_review_count: 151\n",
      "✅ blog_review_count: 2957\n",
      "✅ reviews_attraction: 10개 수집\n"
     ]
    },
    {
     "name": "stderr",
     "output_type": "stream",
     "text": [
      "🔍 리뷰 크롤링 중:  26%|██▋       | 40/152 [10:28<37:01, 19.83s/it]"
     ]
    },
    {
     "name": "stdout",
     "output_type": "stream",
     "text": [
      "\n",
      "📍 처리중 (41/152): 영진해변 (ID: 13491150)\n",
      "✅ sub_category: 해수욕장,해변\n",
      "✅ visiter_review_count: 115\n",
      "✅ blog_review_count: 1952\n",
      "✅ reviews_attraction: 10개 수집\n"
     ]
    },
    {
     "name": "stderr",
     "output_type": "stream",
     "text": [
      "🔍 리뷰 크롤링 중:  27%|██▋       | 41/152 [10:39<31:44, 17.15s/it]"
     ]
    },
    {
     "name": "stdout",
     "output_type": "stream",
     "text": [
      "\n",
      "📍 처리중 (42/152): 정동진해변 (ID: 11491778)\n",
      "✅ sub_category: 해수욕장,해변\n",
      "✅ visiter_review_count: 128\n",
      "✅ blog_review_count: 1330\n",
      "✅ reviews_attraction: 10개 수집\n"
     ]
    },
    {
     "name": "stderr",
     "output_type": "stream",
     "text": [
      "🔍 리뷰 크롤링 중:  28%|██▊       | 42/152 [10:51<28:33, 15.58s/it]"
     ]
    },
    {
     "name": "stdout",
     "output_type": "stream",
     "text": [
      "\n",
      "📍 처리중 (43/152): 경포해수욕장 (ID: 12079976)\n",
      "✅ sub_category: 해수욕장,해변\n",
      "✅ visiter_review_count: 783\n",
      "✅ blog_review_count: 11166\n",
      "✅ reviews_attraction: 10개 수집\n"
     ]
    },
    {
     "name": "stderr",
     "output_type": "stream",
     "text": [
      "🔍 리뷰 크롤링 중:  28%|██▊       | 43/152 [11:04<27:08, 14.94s/it]"
     ]
    },
    {
     "name": "stdout",
     "output_type": "stream",
     "text": [
      "\n",
      "📍 처리중 (44/152): 강릉 수리골 고택 (ID: 20066249)\n",
      "✅ sub_category: 국가유산\n",
      "✅ visiter_review_count: 2\n",
      "✅ blog_review_count: 11\n",
      "✅ reviews_attraction: 2개 수집\n"
     ]
    },
    {
     "name": "stderr",
     "output_type": "stream",
     "text": [
      "🔍 리뷰 크롤링 중:  29%|██▉       | 44/152 [11:13<23:39, 13.15s/it]"
     ]
    },
    {
     "name": "stdout",
     "output_type": "stream",
     "text": [
      "\n",
      "📍 처리중 (45/152): 썬크루즈 테마공원 (ID: 474291808)\n",
      "✅ sub_category: 도시,테마공원\n",
      "✅ visiter_review_count: 2048\n",
      "✅ blog_review_count: 72\n",
      "✅ reviews_attraction: 10개 수집\n"
     ]
    },
    {
     "name": "stderr",
     "output_type": "stream",
     "text": [
      "🔍 리뷰 크롤링 중:  30%|██▉       | 45/152 [11:24<22:09, 12.42s/it]"
     ]
    },
    {
     "name": "stdout",
     "output_type": "stream",
     "text": [
      "\n",
      "📍 처리중 (46/152): 주문리마을 (ID: 20059236)\n",
      "✅ sub_category: 체험마을\n",
      "✅ visiter_review_count: 17\n",
      "✅ blog_review_count: 6\n",
      "✅ reviews_attraction: 8개 수집\n"
     ]
    },
    {
     "name": "stderr",
     "output_type": "stream",
     "text": [
      "🔍 리뷰 크롤링 중:  30%|███       | 46/152 [11:34<20:39, 11.70s/it]"
     ]
    },
    {
     "name": "stdout",
     "output_type": "stream",
     "text": [
      "\n",
      "📍 처리중 (47/152): 주문진 등대 (ID: 20054507)\n",
      "✅ sub_category: 등대\n",
      "✅ visiter_review_count: 28\n",
      "✅ blog_review_count: 446\n",
      "✅ reviews_attraction: 10개 수집\n"
     ]
    },
    {
     "name": "stderr",
     "output_type": "stream",
     "text": [
      "🔍 리뷰 크롤링 중:  31%|███       | 47/152 [11:47<21:26, 12.26s/it]"
     ]
    },
    {
     "name": "stdout",
     "output_type": "stream",
     "text": [
      "\n",
      "📍 처리중 (48/152): 영진항 (ID: 20054445)\n",
      "✅ sub_category: 항구\n",
      "✅ visiter_review_count: 12\n",
      "✅ blog_review_count: 172\n",
      "✅ reviews_attraction: 10개 수집\n"
     ]
    },
    {
     "name": "stderr",
     "output_type": "stream",
     "text": [
      "🔍 리뷰 크롤링 중:  32%|███▏      | 48/152 [11:58<20:39, 11.92s/it]"
     ]
    },
    {
     "name": "stdout",
     "output_type": "stream",
     "text": [
      "\n",
      "📍 처리중 (49/152): 강릉 해살이마을 (ID: 15705568)\n",
      "✅ sub_category: 행정지명\n",
      "✅ blog_review_count: 69\n",
      "✅ reviews_attraction: 0개 수집\n"
     ]
    },
    {
     "name": "stderr",
     "output_type": "stream",
     "text": [
      "🔍 리뷰 크롤링 중:  32%|███▏      | 49/152 [12:26<28:36, 16.67s/it]"
     ]
    },
    {
     "name": "stdout",
     "output_type": "stream",
     "text": [
      "\n",
      "📍 처리중 (50/152): 마암터마을 (ID: 1630903464)\n",
      "✅ sub_category: 체험마을\n",
      "✅ visiter_review_count: 1\n",
      "✅ blog_review_count: 1\n",
      "✅ reviews_attraction: 0개 수집\n"
     ]
    },
    {
     "name": "stderr",
     "output_type": "stream",
     "text": [
      "🔍 리뷰 크롤링 중:  33%|███▎      | 50/152 [12:54<33:55, 19.96s/it]"
     ]
    },
    {
     "name": "stdout",
     "output_type": "stream",
     "text": [
      "\n",
      "📍 처리중 (51/152): 강릉 해운정 (ID: 20066241)\n",
      "✅ sub_category: 보물\n",
      "✅ visiter_review_count: 1\n",
      "✅ blog_review_count: 72\n",
      "✅ reviews_attraction: 1개 수집\n"
     ]
    },
    {
     "name": "stderr",
     "output_type": "stream",
     "text": [
      "🔍 리뷰 크롤링 중:  34%|███▎      | 51/152 [13:02<27:49, 16.53s/it]"
     ]
    },
    {
     "name": "stdout",
     "output_type": "stream",
     "text": [
      "\n",
      "📍 처리중 (52/152): 소돌아들바위공원 (ID: 19501415)\n",
      "✅ sub_category: 테마공원\n",
      "✅ visiter_review_count: 81\n",
      "✅ blog_review_count: 1859\n",
      "✅ reviews_attraction: 10개 수집\n"
     ]
    },
    {
     "name": "stderr",
     "output_type": "stream",
     "text": [
      "🔍 리뷰 크롤링 중:  34%|███▍      | 52/152 [13:13<24:48, 14.88s/it]"
     ]
    },
    {
     "name": "stdout",
     "output_type": "stream",
     "text": [
      "\n",
      "📍 처리중 (53/152): 주문진항 (ID: 13490946)\n",
      "✅ sub_category: 항구\n",
      "✅ visiter_review_count: 41\n",
      "✅ blog_review_count: 2137\n",
      "✅ reviews_attraction: 10개 수집\n"
     ]
    },
    {
     "name": "stderr",
     "output_type": "stream",
     "text": [
      "🔍 리뷰 크롤링 중:  35%|███▍      | 53/152 [13:24<22:40, 13.74s/it]"
     ]
    },
    {
     "name": "stdout",
     "output_type": "stream",
     "text": [
      "\n",
      "📍 처리중 (54/152): 임해자연휴양림 (ID: 13068554)\n",
      "✅ sub_category: 휴양림,산림욕장\n",
      "✅ visiter_review_count: 30\n",
      "✅ blog_review_count: 268\n",
      "✅ reviews_attraction: 10개 수집\n"
     ]
    },
    {
     "name": "stderr",
     "output_type": "stream",
     "text": [
      "🔍 리뷰 크롤링 중:  36%|███▌      | 54/152 [13:36<21:19, 13.06s/it]"
     ]
    },
    {
     "name": "stdout",
     "output_type": "stream",
     "text": [
      "\n",
      "📍 처리중 (55/152): 솔바람다리 (ID: 15694642)\n",
      "✅ sub_category: 교량명\n",
      "✅ blog_review_count: 180\n",
      "✅ reviews_attraction: 0개 수집\n"
     ]
    },
    {
     "name": "stderr",
     "output_type": "stream",
     "text": [
      "🔍 리뷰 크롤링 중:  36%|███▌      | 55/152 [14:02<27:37, 17.09s/it]"
     ]
    },
    {
     "name": "stdout",
     "output_type": "stream",
     "text": [
      "\n",
      "📍 처리중 (56/152): 강릉 솔향수목원 (ID: 19564244)\n",
      "✅ sub_category: 식물원,수목원\n",
      "✅ visiter_review_count: 67\n",
      "✅ blog_review_count: 1365\n",
      "✅ reviews_attraction: 10개 수집\n"
     ]
    },
    {
     "name": "stderr",
     "output_type": "stream",
     "text": [
      "🔍 리뷰 크롤링 중:  37%|███▋      | 56/152 [14:15<25:14, 15.78s/it]"
     ]
    },
    {
     "name": "stdout",
     "output_type": "stream",
     "text": [
      "\n",
      "📍 처리중 (57/152): 강릉커피거리 (ID: 20947876)\n",
      "✅ sub_category: 거리,골목\n",
      "✅ visiter_review_count: 40\n",
      "✅ blog_review_count: 1909\n",
      "✅ reviews_attraction: 10개 수집\n"
     ]
    },
    {
     "name": "stderr",
     "output_type": "stream",
     "text": [
      "🔍 리뷰 크롤링 중:  38%|███▊      | 57/152 [14:27<23:09, 14.62s/it]"
     ]
    },
    {
     "name": "stdout",
     "output_type": "stream",
     "text": [
      "\n",
      "📍 처리중 (58/152): 강릉 녹색도시체험센터 (ID: 34958237)\n",
      "✅ sub_category: 지방행정기관\n",
      "✅ blog_review_count: 483\n",
      "✅ reviews_attraction: 0개 수집\n"
     ]
    },
    {
     "name": "stderr",
     "output_type": "stream",
     "text": [
      "🔍 리뷰 크롤링 중:  38%|███▊      | 58/152 [14:54<28:31, 18.21s/it]"
     ]
    },
    {
     "name": "stdout",
     "output_type": "stream",
     "text": [
      "\n",
      "📍 처리중 (59/152): 정감이마을 (ID: 37031400)\n",
      "✅ sub_category: 체험마을\n",
      "✅ visiter_review_count: 13\n",
      "✅ blog_review_count: 5\n",
      "✅ reviews_attraction: 7개 수집\n"
     ]
    },
    {
     "name": "stderr",
     "output_type": "stream",
     "text": [
      "🔍 리뷰 크롤링 중:  39%|███▉      | 59/152 [15:04<24:20, 15.70s/it]"
     ]
    },
    {
     "name": "stdout",
     "output_type": "stream",
     "text": [
      "\n",
      "📍 처리중 (60/152): 강릉 월화거리 (ID: 1287320440)\n",
      "✅ sub_category: 문화거리\n",
      "✅ visiter_review_count: 46\n",
      "✅ blog_review_count: 1293\n",
      "✅ reviews_attraction: 10개 수집\n"
     ]
    },
    {
     "name": "stderr",
     "output_type": "stream",
     "text": [
      "🔍 리뷰 크롤링 중:  39%|███▉      | 60/152 [15:15<22:14, 14.51s/it]"
     ]
    },
    {
     "name": "stdout",
     "output_type": "stream",
     "text": [
      "\n",
      "📍 처리중 (61/152): 국립대관령치유의숲 (ID: 269545324)\n",
      "✅ sub_category: 산림청\n",
      "✅ visiter_review_count: 20\n",
      "✅ blog_review_count: 176\n",
      "✅ reviews_attraction: 10개 수집\n"
     ]
    },
    {
     "name": "stderr",
     "output_type": "stream",
     "text": [
      "🔍 리뷰 크롤링 중:  40%|████      | 61/152 [15:30<22:11, 14.63s/it]"
     ]
    },
    {
     "name": "stdout",
     "output_type": "stream",
     "text": [
      "\n",
      "📍 처리중 (62/152): 강릉 대도호부 관아 (ID: 15685783)\n",
      "✅ sub_category: 국가유산\n",
      "✅ visiter_review_count: 32\n",
      "✅ blog_review_count: 1230\n",
      "✅ reviews_attraction: 10개 수집\n"
     ]
    },
    {
     "name": "stderr",
     "output_type": "stream",
     "text": [
      "🔍 리뷰 크롤링 중:  41%|████      | 62/152 [15:42<20:30, 13.67s/it]"
     ]
    },
    {
     "name": "stdout",
     "output_type": "stream",
     "text": [
      "\n",
      "📍 처리중 (63/152): 허난설헌 생가터 (ID: 20066218)\n",
      "✅ sub_category: 국가유산\n",
      "✅ visiter_review_count: 28\n",
      "✅ blog_review_count: 461\n",
      "✅ reviews_attraction: 10개 수집\n"
     ]
    },
    {
     "name": "stderr",
     "output_type": "stream",
     "text": [
      "🔍 리뷰 크롤링 중:  41%|████▏     | 63/152 [15:53<19:17, 13.00s/it]"
     ]
    },
    {
     "name": "stdout",
     "output_type": "stream",
     "text": [
      "\n",
      "📍 처리중 (64/152): 허난설헌 솔숲 (ID: 15327430)\n",
      "✅ sub_category: 기념관,생가\n",
      "✅ blog_review_count: 798\n",
      "✅ reviews_attraction: 0개 수집\n"
     ]
    },
    {
     "name": "stderr",
     "output_type": "stream",
     "text": [
      "🔍 리뷰 크롤링 중:  42%|████▏     | 64/152 [16:20<25:02, 17.07s/it]"
     ]
    },
    {
     "name": "stdout",
     "output_type": "stream",
     "text": [
      "\n",
      "📍 처리중 (65/152): 버드나무 브루어리 (ID: 37090227)\n",
      "✅ sub_category: 맥주,호프\n",
      "✅ visiter_review_count: 3105\n",
      "✅ blog_review_count: 2496\n",
      "✅ reviews_attraction: 10개 수집\n"
     ]
    },
    {
     "name": "stderr",
     "output_type": "stream",
     "text": [
      "🔍 리뷰 크롤링 중:  43%|████▎     | 65/152 [16:32<22:38, 15.61s/it]"
     ]
    },
    {
     "name": "stdout",
     "output_type": "stream",
     "text": [
      "\n",
      "📍 처리중 (66/152): 강릉 명주동 거리 (ID: 1249952785)\n",
      "✅ sub_category: 카페\n",
      "✅ visiter_review_count: 41\n",
      "✅ blog_review_count: 3\n",
      "✅ reviews_attraction: 10개 수집\n"
     ]
    },
    {
     "name": "stderr",
     "output_type": "stream",
     "text": [
      "🔍 리뷰 크롤링 중:  43%|████▎     | 66/152 [16:43<20:40, 14.42s/it]"
     ]
    },
    {
     "name": "stdout",
     "output_type": "stream",
     "text": [
      "\n",
      "📍 처리중 (67/152): 주문진bts (ID: 1154013651)\n",
      "✅ sub_category: 촬영장소\n",
      "✅ visiter_review_count: 37\n",
      "✅ blog_review_count: 991\n",
      "✅ reviews_attraction: 10개 수집\n"
     ]
    },
    {
     "name": "stderr",
     "output_type": "stream",
     "text": [
      "🔍 리뷰 크롤링 중:  44%|████▍     | 67/152 [16:55<19:06, 13.49s/it]"
     ]
    },
    {
     "name": "stdout",
     "output_type": "stream",
     "text": [
      "\n",
      "📍 처리중 (68/152): 뒷뜨루관광농원 (ID: 1117620826)\n",
      "✅ sub_category: 관광농원,팜스테이\n",
      "✅ visiter_review_count: 1438\n",
      "✅ blog_review_count: 673\n",
      "✅ reviews_attraction: 10개 수집\n"
     ]
    },
    {
     "name": "stderr",
     "output_type": "stream",
     "text": [
      "🔍 리뷰 크롤링 중:  45%|████▍     | 68/152 [17:07<18:12, 13.00s/it]"
     ]
    },
    {
     "name": "stdout",
     "output_type": "stream",
     "text": [
      "\n",
      "📍 처리중 (69/152): 초당순두부마을 (ID: 31506191)\n",
      "✅ sub_category: 먹자거리\n",
      "✅ visiter_review_count: 3\n",
      "✅ blog_review_count: 537\n",
      "✅ reviews_attraction: 3개 수집\n"
     ]
    },
    {
     "name": "stderr",
     "output_type": "stream",
     "text": [
      "🔍 리뷰 크롤링 중:  45%|████▌     | 69/152 [17:16<16:20, 11.82s/it]"
     ]
    },
    {
     "name": "stdout",
     "output_type": "stream",
     "text": [
      "\n",
      "📍 처리중 (70/152): 경포 아쿠아리움 (ID: 37434460)\n",
      "✅ sub_category: 아쿠아리움\n",
      "✅ visiter_review_count: 8900\n",
      "✅ blog_review_count: 1594\n",
      "✅ reviews_attraction: 10개 수집\n"
     ]
    },
    {
     "name": "stderr",
     "output_type": "stream",
     "text": [
      "🔍 리뷰 크롤링 중:  46%|████▌     | 70/152 [17:27<16:04, 11.76s/it]"
     ]
    },
    {
     "name": "stdout",
     "output_type": "stream",
     "text": [
      "\n",
      "📍 처리중 (71/152): 강릉 오금집 (ID: 15686003)\n",
      "✅ sub_category: 유적지,사적지\n",
      "✅ visiter_review_count: 1\n",
      "✅ blog_review_count: 7\n",
      "✅ reviews_attraction: 1개 수집\n"
     ]
    },
    {
     "name": "stderr",
     "output_type": "stream",
     "text": [
      "🔍 리뷰 크롤링 중:  47%|████▋     | 71/152 [17:37<14:52, 11.02s/it]"
     ]
    },
    {
     "name": "stdout",
     "output_type": "stream",
     "text": [
      "\n",
      "📍 처리중 (72/152): 강릉 안목해맞이공원 (ID: 939463951)\n",
      "✅ sub_category: 도시,테마공원\n",
      "✅ visiter_review_count: 57\n",
      "✅ blog_review_count: 55\n",
      "✅ reviews_attraction: 10개 수집\n"
     ]
    },
    {
     "name": "stderr",
     "output_type": "stream",
     "text": [
      "🔍 리뷰 크롤링 중:  47%|████▋     | 72/152 [17:48<14:41, 11.02s/it]"
     ]
    },
    {
     "name": "stdout",
     "output_type": "stream",
     "text": [
      "\n",
      "📍 처리중 (73/152): 수상한마법학교 (ID: 37081677)\n",
      "✅ sub_category: 관람,체험\n",
      "✅ visiter_review_count: 2423\n",
      "✅ blog_review_count: 282\n",
      "✅ reviews_attraction: 10개 수집\n"
     ]
    },
    {
     "name": "stderr",
     "output_type": "stream",
     "text": [
      "🔍 리뷰 크롤링 중:  48%|████▊     | 73/152 [17:59<14:51, 11.28s/it]"
     ]
    },
    {
     "name": "stdout",
     "output_type": "stream",
     "text": [
      "\n",
      "📍 처리중 (74/152): 석병산 (ID: 15703995)\n",
      "✅ sub_category: 산\n",
      "✅ blog_review_count: 85\n",
      "✅ reviews_attraction: 0개 수집\n"
     ]
    },
    {
     "name": "stderr",
     "output_type": "stream",
     "text": [
      "🔍 리뷰 크롤링 중:  49%|████▊     | 74/152 [18:27<21:02, 16.19s/it]"
     ]
    },
    {
     "name": "stdout",
     "output_type": "stream",
     "text": [
      "\n",
      "📍 처리중 (75/152): 옥계항 (ID: 15703348)\n",
      "✅ sub_category: 페리,해운\n",
      "✅ blog_review_count: 23\n",
      "✅ reviews_attraction: 0개 수집\n"
     ]
    },
    {
     "name": "stderr",
     "output_type": "stream",
     "text": [
      "🔍 리뷰 크롤링 중:  49%|████▉     | 75/152 [18:53<24:37, 19.18s/it]"
     ]
    },
    {
     "name": "stdout",
     "output_type": "stream",
     "text": [
      "\n",
      "📍 처리중 (76/152): 경포가시연습지 (ID: 31044854)\n",
      "✅ sub_category: 자연,생태공원\n",
      "✅ visiter_review_count: 41\n",
      "✅ blog_review_count: 823\n",
      "✅ reviews_attraction: 10개 수집\n"
     ]
    },
    {
     "name": "stderr",
     "output_type": "stream",
     "text": [
      "🔍 리뷰 크롤링 중:  50%|█████     | 76/152 [19:05<21:20, 16.85s/it]"
     ]
    },
    {
     "name": "stdout",
     "output_type": "stream",
     "text": [
      "\n",
      "📍 처리중 (77/152): 강문솟대다리 (ID: 1940124735)\n",
      "✅ sub_category: 지역명소\n",
      "✅ visiter_review_count: 40\n",
      "✅ blog_review_count: 157\n",
      "✅ reviews_attraction: 10개 수집\n"
     ]
    },
    {
     "name": "stderr",
     "output_type": "stream",
     "text": [
      "🔍 리뷰 크롤링 중:  51%|█████     | 77/152 [19:16<18:57, 15.17s/it]"
     ]
    },
    {
     "name": "stdout",
     "output_type": "stream",
     "text": [
      "\n",
      "📍 처리중 (78/152): 호린파크(경포대허브농장) (ID: 1261782152)\n",
      "✅ sub_category: 지역명소\n",
      "✅ visiter_review_count: 215\n",
      "✅ blog_review_count: 446\n",
      "✅ reviews_attraction: 10개 수집\n"
     ]
    },
    {
     "name": "stderr",
     "output_type": "stream",
     "text": [
      "🔍 리뷰 크롤링 중:  51%|█████▏    | 78/152 [19:26<16:46, 13.61s/it]"
     ]
    },
    {
     "name": "stdout",
     "output_type": "stream",
     "text": [
      "\n",
      "📍 처리중 (79/152): 안인항 (ID: 15701885)\n",
      "✅ sub_category: 페리,해운\n",
      "✅ blog_review_count: 176\n",
      "✅ reviews_attraction: 0개 수집\n"
     ]
    },
    {
     "name": "stderr",
     "output_type": "stream",
     "text": [
      "🔍 리뷰 크롤링 중:  52%|█████▏    | 79/152 [19:53<21:18, 17.52s/it]"
     ]
    },
    {
     "name": "stdout",
     "output_type": "stream",
     "text": [
      "\n",
      "📍 처리중 (80/152): 강릉항 (ID: 15692195)\n",
      "✅ sub_category: 국가어항\n",
      "✅ visiter_review_count: 15\n",
      "✅ blog_review_count: 967\n",
      "✅ reviews_attraction: 10개 수집\n"
     ]
    },
    {
     "name": "stderr",
     "output_type": "stream",
     "text": [
      "🔍 리뷰 크롤링 중:  53%|█████▎    | 80/152 [20:08<20:22, 16.98s/it]"
     ]
    },
    {
     "name": "stdout",
     "output_type": "stream",
     "text": [
      "\n",
      "📍 처리중 (81/152): 르꼬따쥬 (ID: 1300520912)\n",
      "✅ sub_category: 관광농원,팜스테이\n",
      "✅ visiter_review_count: 1146\n",
      "✅ blog_review_count: 409\n",
      "✅ reviews_attraction: 10개 수집\n"
     ]
    },
    {
     "name": "stderr",
     "output_type": "stream",
     "text": [
      "🔍 리뷰 크롤링 중:  53%|█████▎    | 81/152 [20:20<18:10, 15.36s/it]"
     ]
    },
    {
     "name": "stdout",
     "output_type": "stream",
     "text": [
      "\n",
      "📍 처리중 (82/152): 노암터널 (ID: 1090516936)\n",
      "✅ sub_category: 터널\n",
      "✅ blog_review_count: 146\n",
      "✅ reviews_attraction: 0개 수집\n"
     ]
    },
    {
     "name": "stderr",
     "output_type": "stream",
     "text": [
      "🔍 리뷰 크롤링 중:  54%|█████▍    | 82/152 [20:46<21:49, 18.70s/it]"
     ]
    },
    {
     "name": "stdout",
     "output_type": "stream",
     "text": [
      "\n",
      "📍 처리중 (83/152): 금진항(강릉) (ID: 1206536601)\n",
      "✅ sub_category: 편의점\n",
      "✅ visiter_review_count: 14\n",
      "✅ reviews_attraction: 10개 수집\n"
     ]
    },
    {
     "name": "stderr",
     "output_type": "stream",
     "text": [
      "🔍 리뷰 크롤링 중:  55%|█████▍    | 83/152 [21:02<20:20, 17.69s/it]"
     ]
    },
    {
     "name": "stdout",
     "output_type": "stream",
     "text": [
      "\n",
      "📍 처리중 (84/152): 부연약수 (ID: 15707204)\n",
      "✅ sub_category: 샘,약수\n",
      "✅ blog_review_count: 5\n",
      "✅ reviews_attraction: 0개 수집\n"
     ]
    },
    {
     "name": "stderr",
     "output_type": "stream",
     "text": [
      "🔍 리뷰 크롤링 중:  55%|█████▌    | 84/152 [21:29<23:10, 20.46s/it]"
     ]
    },
    {
     "name": "stdout",
     "output_type": "stream",
     "text": [
      "\n",
      "📍 처리중 (85/152): 허균·허난설헌 기념공원 (ID: 1130774967)\n",
      "✅ sub_category: 유적지,사적지\n",
      "✅ visiter_review_count: 74\n",
      "✅ blog_review_count: 1320\n",
      "✅ reviews_attraction: 10개 수집\n"
     ]
    },
    {
     "name": "stderr",
     "output_type": "stream",
     "text": [
      "🔍 리뷰 크롤링 중:  56%|█████▌    | 85/152 [21:40<19:55, 17.84s/it]"
     ]
    },
    {
     "name": "stdout",
     "output_type": "stream",
     "text": [
      "\n",
      "📍 처리중 (86/152): 경포플라워가든 (ID: 1063021154)\n",
      "✅ sub_category: 부속시설\n",
      "✅ visiter_review_count: 2\n",
      "✅ blog_review_count: 11\n",
      "✅ reviews_attraction: 2개 수집\n"
     ]
    },
    {
     "name": "stderr",
     "output_type": "stream",
     "text": [
      "🔍 리뷰 크롤링 중:  57%|█████▋    | 86/152 [21:50<16:54, 15.37s/it]"
     ]
    },
    {
     "name": "stdout",
     "output_type": "stream",
     "text": [
      "\n",
      "📍 처리중 (87/152): 쌍둥이동물농장 (ID: 37869673)\n",
      "✅ sub_category: 동물원\n",
      "✅ visiter_review_count: 2156\n",
      "✅ blog_review_count: 1683\n",
      "✅ reviews_attraction: 10개 수집\n"
     ]
    },
    {
     "name": "stderr",
     "output_type": "stream",
     "text": [
      "🔍 리뷰 크롤링 중:  57%|█████▋    | 87/152 [22:01<15:18, 14.12s/it]"
     ]
    },
    {
     "name": "stdout",
     "output_type": "stream",
     "text": [
      "\n",
      "📍 처리중 (88/152): 대관령아기동물농장 (ID: 35372537)\n",
      "✅ sub_category: 동물원\n",
      "✅ visiter_review_count: 1075\n",
      "✅ blog_review_count: 1038\n",
      "✅ reviews_attraction: 10개 수집\n"
     ]
    },
    {
     "name": "stderr",
     "output_type": "stream",
     "text": [
      "🔍 리뷰 크롤링 중:  58%|█████▊    | 88/152 [22:13<14:13, 13.34s/it]"
     ]
    },
    {
     "name": "stdout",
     "output_type": "stream",
     "text": [
      "\n",
      "📍 처리중 (89/152): 강릉아트센터 (ID: 1550291849)\n",
      "✅ sub_category: 문화,예술회관\n",
      "✅ visiter_review_count: 36\n",
      "✅ blog_review_count: 489\n",
      "✅ reviews_attraction: 10개 수집\n"
     ]
    },
    {
     "name": "stderr",
     "output_type": "stream",
     "text": [
      "🔍 리뷰 크롤링 중:  59%|█████▊    | 89/152 [22:24<13:22, 12.74s/it]"
     ]
    },
    {
     "name": "stdout",
     "output_type": "stream",
     "text": [
      "\n",
      "📍 처리중 (90/152): 정동진조각공원 (ID: 13351605)\n",
      "✅ sub_category: 테마공원\n",
      "✅ visiter_review_count: 82\n",
      "✅ blog_review_count: 408\n",
      "✅ reviews_attraction: 10개 수집\n"
     ]
    },
    {
     "name": "stderr",
     "output_type": "stream",
     "text": [
      "🔍 리뷰 크롤링 중:  59%|█████▉    | 90/152 [22:34<12:13, 11.83s/it]"
     ]
    },
    {
     "name": "stdout",
     "output_type": "stream",
     "text": [
      "\n",
      "📍 처리중 (91/152): 경포생태저류지 (ID: 1346656418)\n",
      "✅ sub_category: 강,하천\n",
      "✅ visiter_review_count: 21\n",
      "✅ blog_review_count: 654\n",
      "✅ reviews_attraction: 10개 수집\n"
     ]
    },
    {
     "name": "stderr",
     "output_type": "stream",
     "text": [
      "🔍 리뷰 크롤링 중:  60%|█████▉    | 91/152 [22:44<11:34, 11.39s/it]"
     ]
    },
    {
     "name": "stdout",
     "output_type": "stream",
     "text": [
      "\n",
      "📍 처리중 (92/152): 명주예술마당 (ID: 38623679)\n",
      "✅ sub_category: 복합문화공간\n",
      "✅ visiter_review_count: 13\n",
      "✅ blog_review_count: 423\n",
      "✅ reviews_attraction: 10개 수집\n"
     ]
    },
    {
     "name": "stderr",
     "output_type": "stream",
     "text": [
      "🔍 리뷰 크롤링 중:  61%|██████    | 92/152 [22:54<10:49, 10.82s/it]"
     ]
    },
    {
     "name": "stdout",
     "output_type": "stream",
     "text": [
      "\n",
      "📍 처리중 (93/152): 소돌항 (ID: 37783551)\n",
      "✅ sub_category: 페리,해운\n",
      "✅ blog_review_count: 242\n",
      "✅ reviews_attraction: 0개 수집\n"
     ]
    },
    {
     "name": "stderr",
     "output_type": "stream",
     "text": [
      "🔍 리뷰 크롤링 중:  61%|██████    | 93/152 [23:19<15:05, 15.35s/it]"
     ]
    },
    {
     "name": "stdout",
     "output_type": "stream",
     "text": [
      "\n",
      "📍 처리중 (94/152): 순포해변 (ID: 20103328)\n",
      "✅ sub_category: 해수욕장,해변\n",
      "✅ visiter_review_count: 19\n",
      "✅ blog_review_count: 127\n",
      "✅ reviews_attraction: 10개 수집\n"
     ]
    },
    {
     "name": "stderr",
     "output_type": "stream",
     "text": [
      "🔍 리뷰 크롤링 중:  62%|██████▏   | 94/152 [23:29<13:14, 13.70s/it]"
     ]
    },
    {
     "name": "stdout",
     "output_type": "stream",
     "text": [
      "\n",
      "📍 처리중 (95/152): 소돌해수욕장 (ID: 13491657)\n",
      "✅ sub_category: 해수욕장,해변\n",
      "✅ visiter_review_count: 78\n",
      "✅ blog_review_count: 786\n",
      "✅ reviews_attraction: 10개 수집\n"
     ]
    },
    {
     "name": "stderr",
     "output_type": "stream",
     "text": [
      "🔍 리뷰 크롤링 중:  62%|██████▎   | 95/152 [23:40<12:03, 12.70s/it]"
     ]
    },
    {
     "name": "stdout",
     "output_type": "stream",
     "text": [
      "\n",
      "📍 처리중 (96/152): 순포습지 (ID: 1884028346)\n",
      "✅ sub_category: 호수,연못,저수지\n",
      "✅ visiter_review_count: 9\n",
      "✅ blog_review_count: 191\n",
      "✅ reviews_attraction: 9개 수집\n"
     ]
    },
    {
     "name": "stderr",
     "output_type": "stream",
     "text": [
      "🔍 리뷰 크롤링 중:  63%|██████▎   | 96/152 [23:49<10:58, 11.75s/it]"
     ]
    },
    {
     "name": "stdout",
     "output_type": "stream",
     "text": [
      "\n",
      "📍 처리중 (97/152): 해피아워크루즈 (ID: 1600054868)\n",
      "✅ sub_category: 유람선,관광선\n",
      "✅ visiter_review_count: 1015\n",
      "✅ blog_review_count: 870\n",
      "✅ reviews_attraction: 10개 수집\n"
     ]
    },
    {
     "name": "stderr",
     "output_type": "stream",
     "text": [
      "🔍 리뷰 크롤링 중:  64%|██████▍   | 97/152 [24:00<10:24, 11.36s/it]"
     ]
    },
    {
     "name": "stdout",
     "output_type": "stream",
     "text": [
      "\n",
      "📍 처리중 (98/152): 강릉아기동물농장 (ID: 1848252796)\n",
      "✅ sub_category: 관람,체험\n",
      "✅ visiter_review_count: 121\n",
      "✅ blog_review_count: 163\n",
      "✅ reviews_attraction: 10개 수집\n"
     ]
    },
    {
     "name": "stderr",
     "output_type": "stream",
     "text": [
      "🔍 리뷰 크롤링 중:  64%|██████▍   | 98/152 [24:10<09:56, 11.05s/it]"
     ]
    },
    {
     "name": "stdout",
     "output_type": "stream",
     "text": [
      "\n",
      "📍 처리중 (99/152): 사근진 해중공원 전망대 (ID: 1338629806)\n",
      "✅ sub_category: 전망대\n",
      "✅ visiter_review_count: 40\n",
      "✅ blog_review_count: 313\n",
      "✅ reviews_attraction: 10개 수집\n"
     ]
    },
    {
     "name": "stderr",
     "output_type": "stream",
     "text": [
      "🔍 리뷰 크롤링 중:  65%|██████▌   | 99/152 [24:20<09:35, 10.86s/it]"
     ]
    },
    {
     "name": "stdout",
     "output_type": "stream",
     "text": [
      "\n",
      "📍 처리중 (100/152): 리고엠 (ID: 1775014582)\n",
      "✅ sub_category: 공방\n",
      "✅ visiter_review_count: 22\n",
      "✅ blog_review_count: 10\n",
      "✅ reviews_attraction: 10개 수집\n"
     ]
    },
    {
     "name": "stderr",
     "output_type": "stream",
     "text": [
      "🔍 리뷰 크롤링 중:  66%|██████▌   | 100/152 [24:34<10:05, 11.64s/it]"
     ]
    },
    {
     "name": "stdout",
     "output_type": "stream",
     "text": [
      "\n",
      "📍 처리중 (101/152): 원더스카이 (ID: 1542622512)\n",
      "✅ sub_category: 테마파크\n",
      "✅ visiter_review_count: 1748\n",
      "✅ blog_review_count: 449\n",
      "✅ reviews_attraction: 10개 수집\n"
     ]
    },
    {
     "name": "stderr",
     "output_type": "stream",
     "text": [
      "🔍 리뷰 크롤링 중:  66%|██████▋   | 101/152 [24:44<09:33, 11.24s/it]"
     ]
    },
    {
     "name": "stdout",
     "output_type": "stream",
     "text": [
      "\n",
      "📍 처리중 (102/152): 강릉안반데기관광농원 (ID: 1109407473)\n",
      "✅ sub_category: 관람,체험\n",
      "✅ visiter_review_count: 12\n",
      "✅ blog_review_count: 278\n",
      "✅ reviews_attraction: 7개 수집\n"
     ]
    },
    {
     "name": "stderr",
     "output_type": "stream",
     "text": [
      "🔍 리뷰 크롤링 중:  67%|██████▋   | 102/152 [24:53<08:40, 10.42s/it]"
     ]
    },
    {
     "name": "stdout",
     "output_type": "stream",
     "text": [
      "\n",
      "📍 처리중 (103/152): 향호해변 (ID: 15698326)\n",
      "✅ sub_category: 해수욕장,해변\n",
      "✅ visiter_review_count: 19\n",
      "✅ blog_review_count: 518\n",
      "✅ reviews_attraction: 10개 수집\n"
     ]
    },
    {
     "name": "stderr",
     "output_type": "stream",
     "text": [
      "🔍 리뷰 크롤링 중:  68%|██████▊   | 103/152 [25:03<08:26, 10.34s/it]"
     ]
    },
    {
     "name": "stdout",
     "output_type": "stream",
     "text": [
      "\n",
      "📍 처리중 (104/152): 런닝맨 강릉점 (ID: 1112785467)\n",
      "✅ sub_category: 테마파크\n",
      "✅ visiter_review_count: 7779\n",
      "✅ blog_review_count: 1034\n",
      "✅ reviews_attraction: 10개 수집\n"
     ]
    },
    {
     "name": "stderr",
     "output_type": "stream",
     "text": [
      "🔍 리뷰 크롤링 중:  68%|██████▊   | 104/152 [25:13<08:17, 10.36s/it]"
     ]
    },
    {
     "name": "stdout",
     "output_type": "stream",
     "text": [
      "\n",
      "📍 처리중 (105/152): 강릉 남산공원 (ID: 15693581)\n",
      "✅ sub_category: 근린공원\n",
      "✅ visiter_review_count: 26\n",
      "✅ blog_review_count: 586\n",
      "✅ reviews_attraction: 10개 수집\n"
     ]
    },
    {
     "name": "stderr",
     "output_type": "stream",
     "text": [
      "🔍 리뷰 크롤링 중:  69%|██████▉   | 105/152 [25:23<07:59, 10.20s/it]"
     ]
    },
    {
     "name": "stdout",
     "output_type": "stream",
     "text": [
      "\n",
      "📍 처리중 (106/152): 강릉수월래 (ID: 1918856809)\n",
      "✅ sub_category: 관광안내소\n",
      "✅ blog_review_count: 26\n",
      "✅ reviews_attraction: 0개 수집\n"
     ]
    },
    {
     "name": "stderr",
     "output_type": "stream",
     "text": [
      "🔍 리뷰 크롤링 중:  70%|██████▉   | 106/152 [25:50<11:35, 15.11s/it]"
     ]
    },
    {
     "name": "stdout",
     "output_type": "stream",
     "text": [
      "\n",
      "📍 처리중 (107/152): 풍호마을 (ID: 13126966)\n",
      "✅ sub_category: 체험마을\n",
      "✅ visiter_review_count: 16\n",
      "✅ blog_review_count: 158\n",
      "✅ reviews_attraction: 10개 수집\n"
     ]
    },
    {
     "name": "stderr",
     "output_type": "stream",
     "text": [
      "🔍 리뷰 크롤링 중:  70%|███████   | 107/152 [26:00<10:20, 13.78s/it]"
     ]
    },
    {
     "name": "stdout",
     "output_type": "stream",
     "text": [
      "\n",
      "📍 처리중 (108/152): 병산 옹심이마을 (ID: 1243747688)\n",
      "✅ sub_category: 편의점\n",
      "✅ visiter_review_count: 46\n",
      "✅ blog_review_count: 34\n",
      "✅ reviews_attraction: 10개 수집\n"
     ]
    },
    {
     "name": "stderr",
     "output_type": "stream",
     "text": [
      "🔍 리뷰 크롤링 중:  71%|███████   | 108/152 [26:14<10:02, 13.69s/it]"
     ]
    },
    {
     "name": "stdout",
     "output_type": "stream",
     "text": [
      "\n",
      "📍 처리중 (109/152): 강릉 방동리 무궁화 (ID: 2145408639)\n",
      "✅ sub_category: 기념물\n",
      "✅ visiter_review_count: 2\n",
      "✅ blog_review_count: 4\n",
      "✅ reviews_attraction: 2개 수집\n"
     ]
    },
    {
     "name": "stderr",
     "output_type": "stream",
     "text": [
      "🔍 리뷰 크롤링 중:  72%|███████▏  | 109/152 [26:22<08:35, 11.98s/it]"
     ]
    },
    {
     "name": "stdout",
     "output_type": "stream",
     "text": [
      "\n",
      "📍 처리중 (110/152): 애니멀스토리 (ID: 35188457)\n",
      "✅ sub_category: 동물원\n",
      "✅ visiter_review_count: 737\n",
      "✅ blog_review_count: 255\n",
      "✅ reviews_attraction: 10개 수집\n"
     ]
    },
    {
     "name": "stderr",
     "output_type": "stream",
     "text": [
      "🔍 리뷰 크롤링 중:  72%|███████▏  | 110/152 [26:33<08:13, 11.76s/it]"
     ]
    },
    {
     "name": "stdout",
     "output_type": "stream",
     "text": [
      "\n",
      "📍 처리중 (111/152): 처음처럼&새로 브랜드 체험관 (ID: 1412053208)\n",
      "✅ sub_category: 관람,체험\n",
      "✅ visiter_review_count: 2\n",
      "✅ blog_review_count: 290\n",
      "✅ reviews_attraction: 2개 수집\n"
     ]
    },
    {
     "name": "stderr",
     "output_type": "stream",
     "text": [
      "🔍 리뷰 크롤링 중:  73%|███████▎  | 111/152 [26:42<07:29, 10.97s/it]"
     ]
    },
    {
     "name": "stdout",
     "output_type": "stream",
     "text": [
      "\n",
      "📍 처리중 (112/152): 강릉 한복 문화 창작소 (ID: 1298862753)\n",
      "✅ sub_category: 한복\n",
      "✅ blog_review_count: 12\n",
      "✅ reviews_attraction: 0개 수집\n"
     ]
    },
    {
     "name": "stderr",
     "output_type": "stream",
     "text": [
      "🔍 리뷰 크롤링 중:  74%|███████▎  | 112/152 [27:09<10:28, 15.70s/it]"
     ]
    },
    {
     "name": "stdout",
     "output_type": "stream",
     "text": [
      "\n",
      "📍 처리중 (113/152): 경포호수광장 (ID: 472414455)\n",
      "✅ sub_category: 근린공원\n",
      "✅ visiter_review_count: 63\n",
      "✅ blog_review_count: 1076\n",
      "✅ reviews_attraction: 10개 수집\n"
     ]
    },
    {
     "name": "stderr",
     "output_type": "stream",
     "text": [
      "🔍 리뷰 크롤링 중:  74%|███████▍  | 113/152 [27:19<09:06, 14.00s/it]"
     ]
    },
    {
     "name": "stdout",
     "output_type": "stream",
     "text": [
      "\n",
      "📍 처리중 (114/152): 강릉 메타버스 체험관 (ID: 1881857549)\n",
      "✅ sub_category: 관람,체험\n",
      "✅ visiter_review_count: 21\n",
      "✅ blog_review_count: 216\n",
      "✅ reviews_attraction: 10개 수집\n"
     ]
    },
    {
     "name": "stderr",
     "output_type": "stream",
     "text": [
      "🔍 리뷰 크롤링 중:  75%|███████▌  | 114/152 [27:31<08:29, 13.41s/it]"
     ]
    },
    {
     "name": "stdout",
     "output_type": "stream",
     "text": [
      "\n",
      "📍 처리중 (115/152): 최선평 가옥 (ID: 15698002)\n",
      "✅ sub_category: 국가유산\n",
      "✅ visiter_review_count: 5\n",
      "✅ blog_review_count: 3\n",
      "✅ reviews_attraction: 5개 수집\n"
     ]
    },
    {
     "name": "stderr",
     "output_type": "stream",
     "text": [
      "🔍 리뷰 크롤링 중:  76%|███████▌  | 115/152 [27:40<07:22, 11.95s/it]"
     ]
    },
    {
     "name": "stdout",
     "output_type": "stream",
     "text": [
      "\n",
      "📍 처리중 (116/152): 소금강 (ID: 15707029)\n",
      "✅ sub_category: 하천\n",
      "✅ visiter_review_count: 2\n",
      "✅ blog_review_count: 140\n",
      "✅ reviews_attraction: 2개 수집\n"
     ]
    },
    {
     "name": "stderr",
     "output_type": "stream",
     "text": [
      "🔍 리뷰 크롤링 중:  76%|███████▋  | 116/152 [27:51<07:10, 11.95s/it]"
     ]
    },
    {
     "name": "stdout",
     "output_type": "stream",
     "text": [
      "\n",
      "📍 처리중 (117/152): 굴산사지당간지주 (ID: 15700923)\n",
      "✅ sub_category: 국가유산\n",
      "✅ visiter_review_count: 4\n",
      "✅ blog_review_count: 58\n",
      "✅ reviews_attraction: 4개 수집\n"
     ]
    },
    {
     "name": "stderr",
     "output_type": "stream",
     "text": [
      "🔍 리뷰 크롤링 중:  77%|███████▋  | 117/152 [28:00<06:18, 10.82s/it]"
     ]
    },
    {
     "name": "stdout",
     "output_type": "stream",
     "text": [
      "\n",
      "📍 처리중 (118/152): 강문해변 (ID: 13491183)\n",
      "✅ sub_category: 해수욕장,해변\n",
      "✅ visiter_review_count: 611\n",
      "✅ blog_review_count: 8275\n",
      "✅ reviews_attraction: 10개 수집\n"
     ]
    },
    {
     "name": "stderr",
     "output_type": "stream",
     "text": [
      "🔍 리뷰 크롤링 중:  78%|███████▊  | 118/152 [28:11<06:09, 10.88s/it]"
     ]
    },
    {
     "name": "stdout",
     "output_type": "stream",
     "text": [
      "\n",
      "📍 처리중 (119/152): 사천진해변(사천뒷불해수욕장) (ID: 15704900)\n",
      "✅ sub_category: 해수욕장,해변\n",
      "✅ visiter_review_count: 2\n",
      "✅ blog_review_count: 19\n",
      "✅ reviews_attraction: 2개 수집\n"
     ]
    },
    {
     "name": "stderr",
     "output_type": "stream",
     "text": [
      "🔍 리뷰 크롤링 중:  78%|███████▊  | 119/152 [28:19<05:29,  9.98s/it]"
     ]
    },
    {
     "name": "stdout",
     "output_type": "stream",
     "text": [
      "\n",
      "📍 처리중 (120/152): 하평해변(강릉) (ID: 1800696554)\n",
      "✅ sub_category: 편의점\n",
      "✅ visiter_review_count: 363\n",
      "✅ blog_review_count: 2\n",
      "✅ reviews_attraction: 10개 수집\n"
     ]
    },
    {
     "name": "stderr",
     "output_type": "stream",
     "text": [
      "🔍 리뷰 크롤링 중:  79%|███████▉  | 120/152 [28:32<05:49, 10.91s/it]"
     ]
    },
    {
     "name": "stdout",
     "output_type": "stream",
     "text": [
      "\n",
      "📍 처리중 (121/152): 순긋해변 (ID: 13491745)\n",
      "✅ sub_category: 해수욕장,해변\n",
      "✅ visiter_review_count: 36\n",
      "✅ blog_review_count: 818\n",
      "✅ reviews_attraction: 10개 수집\n"
     ]
    },
    {
     "name": "stderr",
     "output_type": "stream",
     "text": [
      "🔍 리뷰 크롤링 중:  80%|███████▉  | 121/152 [28:42<05:29, 10.62s/it]"
     ]
    },
    {
     "name": "stdout",
     "output_type": "stream",
     "text": [
      "\n",
      "📍 처리중 (122/152): 염전해변 (ID: 15701732)\n",
      "✅ sub_category: 해수욕장,해변\n",
      "✅ visiter_review_count: 3\n",
      "✅ blog_review_count: 83\n",
      "✅ reviews_attraction: 3개 수집\n"
     ]
    },
    {
     "name": "stderr",
     "output_type": "stream",
     "text": [
      "🔍 리뷰 크롤링 중:  80%|████████  | 122/152 [28:49<04:52,  9.76s/it]"
     ]
    },
    {
     "name": "stdout",
     "output_type": "stream",
     "text": [
      "\n",
      "📍 처리중 (123/152): 금진해변 (ID: 15703904)\n",
      "✅ sub_category: 해수욕장,해변\n",
      "✅ visiter_review_count: 29\n",
      "✅ blog_review_count: 417\n",
      "✅ reviews_attraction: 10개 수집\n"
     ]
    },
    {
     "name": "stderr",
     "output_type": "stream",
     "text": [
      "🔍 리뷰 크롤링 중:  81%|████████  | 123/152 [28:59<04:43,  9.78s/it]"
     ]
    },
    {
     "name": "stdout",
     "output_type": "stream",
     "text": [
      "\n",
      "📍 처리중 (124/152): 도직해변 (ID: 15703402)\n",
      "✅ sub_category: 해수욕장,해변\n",
      "✅ visiter_review_count: 4\n",
      "✅ blog_review_count: 15\n",
      "✅ reviews_attraction: 4개 수집\n"
     ]
    },
    {
     "name": "stderr",
     "output_type": "stream",
     "text": [
      "🔍 리뷰 크롤링 중:  82%|████████▏ | 124/152 [29:08<04:22,  9.38s/it]"
     ]
    },
    {
     "name": "stdout",
     "output_type": "stream",
     "text": [
      "\n",
      "📍 처리중 (125/152): 대굴령마을 (ID: 1145646712)\n",
      "✅ sub_category: 체험마을\n",
      "✅ blog_review_count: 3\n",
      "✅ reviews_attraction: 0개 수집\n"
     ]
    },
    {
     "name": "stderr",
     "output_type": "stream",
     "text": [
      "🔍 리뷰 크롤링 중:  82%|████████▏ | 125/152 [29:34<06:29, 14.44s/it]"
     ]
    },
    {
     "name": "stdout",
     "output_type": "stream",
     "text": [
      "\n",
      "📍 처리중 (126/152): 현덕사(강릉) (ID: 12200105)\n",
      "✅ sub_category: 절,사찰\n",
      "✅ blog_review_count: 141\n",
      "✅ reviews_attraction: 0개 수집\n"
     ]
    },
    {
     "name": "stderr",
     "output_type": "stream",
     "text": [
      "🔍 리뷰 크롤링 중:  83%|████████▎ | 126/152 [30:00<07:49, 18.06s/it]"
     ]
    },
    {
     "name": "stdout",
     "output_type": "stream",
     "text": [
      "\n",
      "📍 처리중 (127/152): 하슬라아트월드 (ID: 11626644)\n",
      "✅ sub_category: 테마공원\n",
      "✅ visiter_review_count: 5741\n",
      "✅ blog_review_count: 6536\n",
      "✅ reviews_attraction: 10개 수집\n"
     ]
    },
    {
     "name": "stderr",
     "output_type": "stream",
     "text": [
      "🔍 리뷰 크롤링 중:  84%|████████▎ | 127/152 [30:11<06:39, 15.98s/it]"
     ]
    },
    {
     "name": "stdout",
     "output_type": "stream",
     "text": [
      "\n",
      "📍 처리중 (128/152): 강릉 오죽헌·시립박물관 (ID: 11620702)\n",
      "✅ sub_category: 박물관\n",
      "✅ visiter_review_count: 1098\n",
      "✅ blog_review_count: 161\n",
      "✅ reviews_attraction: 10개 수집\n"
     ]
    },
    {
     "name": "stderr",
     "output_type": "stream",
     "text": [
      "🔍 리뷰 크롤링 중:  84%|████████▍ | 128/152 [30:23<05:48, 14.53s/it]"
     ]
    },
    {
     "name": "stdout",
     "output_type": "stream",
     "text": [
      "\n",
      "📍 처리중 (129/152): 단오타운전시관 (ID: 12955259)\n",
      "✅ sub_category: 공연장\n",
      "✅ visiter_review_count: 3\n",
      "✅ blog_review_count: 310\n",
      "✅ reviews_attraction: 3개 수집\n"
     ]
    },
    {
     "name": "stderr",
     "output_type": "stream",
     "text": [
      "🔍 리뷰 크롤링 중:  85%|████████▍ | 129/152 [30:31<04:52, 12.70s/it]"
     ]
    },
    {
     "name": "stdout",
     "output_type": "stream",
     "text": [
      "\n",
      "📍 처리중 (130/152): 강릉문화원 (ID: 11535675)\n",
      "✅ sub_category: 문화원\n",
      "✅ visiter_review_count: 34\n",
      "✅ blog_review_count: 103\n",
      "✅ reviews_attraction: 10개 수집\n"
     ]
    },
    {
     "name": "stderr",
     "output_type": "stream",
     "text": [
      "🔍 리뷰 크롤링 중:  86%|████████▌ | 130/152 [30:41<04:22, 11.92s/it]"
     ]
    },
    {
     "name": "stdout",
     "output_type": "stream",
     "text": [
      "\n",
      "📍 처리중 (131/152): 대관령박물관 (ID: 20107994)\n",
      "✅ sub_category: 박물관\n",
      "✅ visiter_review_count: 74\n",
      "✅ blog_review_count: 202\n",
      "✅ reviews_attraction: 10개 수집\n"
     ]
    },
    {
     "name": "stderr",
     "output_type": "stream",
     "text": [
      "🔍 리뷰 크롤링 중:  86%|████████▌ | 131/152 [30:51<03:56, 11.28s/it]"
     ]
    },
    {
     "name": "stdout",
     "output_type": "stream",
     "text": [
      "\n",
      "📍 처리중 (132/152): 참소리에디슨손성목영화박물관 (ID: 12409858)\n",
      "✅ sub_category: 박물관\n",
      "✅ visiter_review_count: 2081\n",
      "✅ blog_review_count: 534\n",
      "✅ reviews_attraction: 10개 수집\n"
     ]
    },
    {
     "name": "stderr",
     "output_type": "stream",
     "text": [
      "🔍 리뷰 크롤링 중:  87%|████████▋ | 132/152 [31:02<03:41, 11.09s/it]"
     ]
    },
    {
     "name": "stdout",
     "output_type": "stream",
     "text": [
      "\n",
      "📍 처리중 (133/152): 숲사랑홍보관 (ID: 11780628)\n",
      "✅ sub_category: 체험,홍보관\n",
      "✅ visiter_review_count: 2\n",
      "✅ blog_review_count: 89\n",
      "✅ reviews_attraction: 0개 수집\n"
     ]
    },
    {
     "name": "stderr",
     "output_type": "stream",
     "text": [
      "🔍 리뷰 크롤링 중:  88%|████████▊ | 133/152 [31:28<04:59, 15.74s/it]"
     ]
    },
    {
     "name": "stdout",
     "output_type": "stream",
     "text": [
      "\n",
      "📍 처리중 (134/152): 정동진시간박물관 (ID: 32794988)\n",
      "✅ sub_category: 박물관\n",
      "✅ visiter_review_count: 2164\n",
      "✅ blog_review_count: 590\n",
      "✅ reviews_attraction: 10개 수집\n"
     ]
    },
    {
     "name": "stderr",
     "output_type": "stream",
     "text": [
      "🔍 리뷰 크롤링 중:  88%|████████▊ | 134/152 [31:38<04:13, 14.10s/it]"
     ]
    },
    {
     "name": "stdout",
     "output_type": "stream",
     "text": [
      "\n",
      "📍 처리중 (135/152): 강릉자수박물관 (ID: 19832807)\n",
      "✅ sub_category: 박물관\n",
      "✅ visiter_review_count: 179\n",
      "✅ blog_review_count: 95\n",
      "✅ reviews_attraction: 10개 수집\n"
     ]
    },
    {
     "name": "stderr",
     "output_type": "stream",
     "text": [
      "🔍 리뷰 크롤링 중:  89%|████████▉ | 135/152 [31:49<03:41, 13.04s/it]"
     ]
    },
    {
     "name": "stdout",
     "output_type": "stream",
     "text": [
      "\n",
      "📍 처리중 (136/152): 환희컵박물관 (ID: 32268465)\n",
      "✅ sub_category: 박물관\n",
      "✅ visiter_review_count: 415\n",
      "✅ blog_review_count: 194\n",
      "✅ reviews_attraction: 10개 수집\n"
     ]
    },
    {
     "name": "stderr",
     "output_type": "stream",
     "text": [
      "🔍 리뷰 크롤링 중:  89%|████████▉ | 136/152 [32:00<03:16, 12.30s/it]"
     ]
    },
    {
     "name": "stdout",
     "output_type": "stream",
     "text": [
      "\n",
      "📍 처리중 (137/152): 강릉원주대학교 박물관 (ID: 21824426)\n",
      "✅ sub_category: 박물관\n",
      "✅ visiter_review_count: 12\n",
      "✅ blog_review_count: 7\n",
      "✅ reviews_attraction: 7개 수집\n"
     ]
    },
    {
     "name": "stderr",
     "output_type": "stream",
     "text": [
      "🔍 리뷰 크롤링 중:  90%|█████████ | 137/152 [32:09<02:50, 11.38s/it]"
     ]
    },
    {
     "name": "stdout",
     "output_type": "stream",
     "text": [
      "\n",
      "📍 처리중 (138/152): 강릉커피박물관 (ID: 13313746)\n",
      "✅ sub_category: 박물관\n",
      "✅ visiter_review_count: 314\n",
      "✅ blog_review_count: 438\n",
      "✅ reviews_attraction: 10개 수집\n"
     ]
    },
    {
     "name": "stderr",
     "output_type": "stream",
     "text": [
      "🔍 리뷰 크롤링 중:  91%|█████████ | 138/152 [32:20<02:36, 11.20s/it]"
     ]
    },
    {
     "name": "stdout",
     "output_type": "stream",
     "text": [
      "\n",
      "📍 처리중 (139/152): 강릉시립미술관 교동 (ID: 12762639)\n",
      "✅ sub_category: 미술관\n",
      "✅ visiter_review_count: 20\n",
      "✅ blog_review_count: 490\n",
      "✅ reviews_attraction: 10개 수집\n"
     ]
    },
    {
     "name": "stderr",
     "output_type": "stream",
     "text": [
      "🔍 리뷰 크롤링 중:  91%|█████████▏| 139/152 [32:29<02:20, 10.79s/it]"
     ]
    },
    {
     "name": "stdout",
     "output_type": "stream",
     "text": [
      "\n",
      "📍 처리중 (140/152): 매월당 김시습 기념관 (ID: 15351692)\n",
      "✅ sub_category: 기념관,생가\n",
      "✅ visiter_review_count: 1\n",
      "✅ blog_review_count: 111\n",
      "✅ reviews_attraction: 0개 수집\n"
     ]
    },
    {
     "name": "stderr",
     "output_type": "stream",
     "text": [
      "🔍 리뷰 크롤링 중:  92%|█████████▏| 140/152 [32:56<03:04, 15.41s/it]"
     ]
    },
    {
     "name": "stdout",
     "output_type": "stream",
     "text": [
      "\n",
      "📍 처리중 (141/152): 김동명문학관 (ID: 33338520)\n",
      "✅ sub_category: 전시관\n",
      "✅ blog_review_count: 62\n",
      "✅ reviews_attraction: 0개 수집\n"
     ]
    },
    {
     "name": "stderr",
     "output_type": "stream",
     "text": [
      "🔍 리뷰 크롤링 중:  93%|█████████▎| 141/152 [33:22<03:25, 18.68s/it]"
     ]
    },
    {
     "name": "stdout",
     "output_type": "stream",
     "text": [
      "\n",
      "📍 처리중 (142/152): 강릉자동차극장 (ID: 266717564)\n",
      "✅ sub_category: 영화관\n",
      "✅ visiter_review_count: 163\n",
      "✅ blog_review_count: 133\n",
      "✅ reviews_attraction: 10개 수집\n"
     ]
    },
    {
     "name": "stderr",
     "output_type": "stream",
     "text": [
      "🔍 리뷰 크롤링 중:  93%|█████████▎| 142/152 [33:32<02:40, 16.02s/it]"
     ]
    },
    {
     "name": "stdout",
     "output_type": "stream",
     "text": [
      "\n",
      "📍 처리중 (143/152): 주문진해양박물관 (ID: 34818378)\n",
      "✅ sub_category: 박물관\n",
      "✅ visiter_review_count: 261\n",
      "✅ blog_review_count: 207\n",
      "✅ reviews_attraction: 10개 수집\n"
     ]
    },
    {
     "name": "stderr",
     "output_type": "stream",
     "text": [
      "🔍 리뷰 크롤링 중:  94%|█████████▍| 143/152 [33:42<02:08, 14.25s/it]"
     ]
    },
    {
     "name": "stdout",
     "output_type": "stream",
     "text": [
      "\n",
      "📍 처리중 (144/152): 고래책방 (ID: 1357865119)\n",
      "✅ sub_category: 서점\n",
      "✅ visiter_review_count: 1591\n",
      "✅ blog_review_count: 1070\n",
      "✅ reviews_attraction: 10개 수집\n"
     ]
    },
    {
     "name": "stderr",
     "output_type": "stream",
     "text": [
      "🔍 리뷰 크롤링 중:  95%|█████████▍| 144/152 [33:56<01:52, 14.12s/it]"
     ]
    },
    {
     "name": "stdout",
     "output_type": "stream",
     "text": [
      "\n",
      "📍 처리중 (145/152): 아르떼뮤지엄 강릉 (ID: 1090555407)\n",
      "✅ sub_category: 미술관\n",
      "✅ visiter_review_count: 16021\n",
      "✅ blog_review_count: 7378\n",
      "✅ reviews_attraction: 10개 수집\n"
     ]
    },
    {
     "name": "stderr",
     "output_type": "stream",
     "text": [
      "🔍 리뷰 크롤링 중:  95%|█████████▌| 145/152 [34:07<01:33, 13.34s/it]"
     ]
    },
    {
     "name": "stdout",
     "output_type": "stream",
     "text": [
      "\n",
      "📍 처리중 (146/152): 자연아놀자 체험학습박물관 (ID: 32777223)\n",
      "✅ sub_category: 관람,체험\n",
      "✅ visiter_review_count: 2583\n",
      "✅ blog_review_count: 630\n",
      "✅ reviews_attraction: 10개 수집\n"
     ]
    },
    {
     "name": "stderr",
     "output_type": "stream",
     "text": [
      "🔍 리뷰 크롤링 중:  96%|█████████▌| 146/152 [34:18<01:16, 12.71s/it]"
     ]
    },
    {
     "name": "stdout",
     "output_type": "stream",
     "text": [
      "\n",
      "📍 처리중 (147/152): 뮤지엄홀리데이 (ID: 1916991432)\n",
      "✅ sub_category: 미술관\n",
      "✅ blog_review_count: 51\n",
      "✅ reviews_attraction: 0개 수집\n"
     ]
    },
    {
     "name": "stderr",
     "output_type": "stream",
     "text": [
      "🔍 리뷰 크롤링 중:  97%|█████████▋| 147/152 [34:45<01:23, 16.73s/it]"
     ]
    },
    {
     "name": "stdout",
     "output_type": "stream",
     "text": [
      "\n",
      "📍 처리중 (148/152): 강릉교육문화관 (ID: 11592129)\n",
      "✅ sub_category: 도서관\n",
      "✅ visiter_review_count: 1\n",
      "✅ blog_review_count: 58\n",
      "✅ reviews_attraction: 1개 수집\n"
     ]
    },
    {
     "name": "stderr",
     "output_type": "stream",
     "text": [
      "🔍 리뷰 크롤링 중:  97%|█████████▋| 148/152 [34:56<01:00, 15.23s/it]"
     ]
    },
    {
     "name": "stdout",
     "output_type": "stream",
     "text": [
      "\n",
      "📍 처리중 (149/152): 강릉시립미술관 솔올 (ID: 2062786512)\n",
      "✅ sub_category: 미술관\n",
      "✅ visiter_review_count: 1\n",
      "✅ blog_review_count: 92\n",
      "✅ reviews_attraction: 1개 수집\n"
     ]
    },
    {
     "name": "stderr",
     "output_type": "stream",
     "text": [
      "🔍 리뷰 크롤링 중:  98%|█████████▊| 149/152 [35:04<00:38, 12.90s/it]"
     ]
    },
    {
     "name": "stdout",
     "output_type": "stream",
     "text": [
      "\n",
      "📍 처리중 (150/152): 강릉올림픽뮤지엄 (ID: 1211834959)\n",
      "✅ sub_category: 박물관\n",
      "✅ visiter_review_count: 4\n",
      "✅ blog_review_count: 267\n",
      "✅ reviews_attraction: 4개 수집\n"
     ]
    },
    {
     "name": "stderr",
     "output_type": "stream",
     "text": [
      "🔍 리뷰 크롤링 중:  99%|█████████▊| 150/152 [35:13<00:23, 11.76s/it]"
     ]
    },
    {
     "name": "stdout",
     "output_type": "stream",
     "text": [
      "\n",
      "📍 처리중 (151/152): 소금강 돌박물관 (ID: 15374325)\n",
      "✅ sub_category: 박물관\n",
      "✅ visiter_review_count: 1\n",
      "✅ blog_review_count: 7\n",
      "✅ reviews_attraction: 0개 수집\n"
     ]
    },
    {
     "name": "stderr",
     "output_type": "stream",
     "text": [
      "🔍 리뷰 크롤링 중:  99%|█████████▉| 151/152 [35:39<00:16, 16.13s/it]"
     ]
    },
    {
     "name": "stdout",
     "output_type": "stream",
     "text": [
      "\n",
      "📍 처리중 (152/152): 갈골한과체험전시관 (ID: 15704484)\n",
      "✅ sub_category: 박람회,전시회\n",
      "✅ visiter_review_count: 18\n",
      "✅ blog_review_count: 6\n",
      "✅ reviews_attraction: 10개 수집\n"
     ]
    },
    {
     "name": "stderr",
     "output_type": "stream",
     "text": [
      "🔍 리뷰 크롤링 중: 100%|██████████| 152/152 [35:49<00:00, 14.14s/it]"
     ]
    },
    {
     "name": "stdout",
     "output_type": "stream",
     "text": [
      "\n",
      "============================================================\n",
      "🎉 크롤링 완료!\n",
      "📊 결과 통계:\n",
      "   - 총 처리: 152개\n",
      "   - 성공: 152개\n",
      "   - 실패: 0개\n",
      "📁 저장 위치: /Users/changjin/Desktop/Workspace/lab/sac/관광지_crawaling/[7]tour_places_with_reviews.jsonl\n",
      "============================================================\n"
     ]
    },
    {
     "name": "stderr",
     "output_type": "stream",
     "text": [
      "\n"
     ]
    }
   ],
   "source": [
    "import re, json, time, datetime\n",
    "from pathlib import Path\n",
    "from tqdm import tqdm\n",
    "\n",
    "import requests\n",
    "from requests.adapters import HTTPAdapter, Retry\n",
    "from bs4 import BeautifulSoup\n",
    "\n",
    "from selenium import webdriver\n",
    "from selenium.webdriver.common.by import By\n",
    "from selenium.webdriver.support.ui import WebDriverWait\n",
    "from selenium.webdriver.support import expected_conditions as EC\n",
    "\n",
    "# ---------------------------\n",
    "# 설정\n",
    "# ---------------------------\n",
    "INPUT_JSONL = \"/Users/changjin/Desktop/Workspace/lab/sac/관광지_crawaling/[6]tour_places_with_review_urls.jsonl\"\n",
    "OUTPUT_JSONL = \"/Users/changjin/Desktop/Workspace/lab/sac/관광지_crawaling/[7]tour_places_with_reviews.jsonl\"\n",
    "\n",
    "# 페이지 스크롤 수 설정\n",
    "MAX_SCROLLS = 3\n",
    "REVIEW_LIMIT = 10  # 최대 리뷰 수\n",
    "\n",
    "# ---------------------------\n",
    "# 날짜를 YYYYMMDD int로\n",
    "# ---------------------------\n",
    "def parse_date_to_yyyymmdd(s: str, now=None):\n",
    "    if not s:\n",
    "        return None\n",
    "    s = str(s).strip()\n",
    "    if now is None:\n",
    "        now = datetime.datetime.now()\n",
    "\n",
    "    m = re.search(r'(\\d{4})[.\\-/](\\d{1,2})[.\\-/](\\d{1,2})', s)\n",
    "    if m:\n",
    "        y, mth, d = int(m.group(1)), int(m.group(2)), int(m.group(3))\n",
    "        try:\n",
    "            return int(datetime.date(y, mth, d).strftime('%Y%m%d'))\n",
    "        except:\n",
    "            pass\n",
    "\n",
    "    if '오늘' in s:\n",
    "        return int(now.strftime('%Y%m%d'))\n",
    "    if '어제' in s:\n",
    "        return int((now - datetime.timedelta(days=1)).strftime('%Y%m%d'))\n",
    "    m = re.search(r'(\\d+)\\s*일\\s*전', s)\n",
    "    if m:\n",
    "        days = int(m.group(1))\n",
    "        return int((now - datetime.timedelta(days=days)).strftime('%Y%m%d'))\n",
    "\n",
    "    # \"7.18.\" 같이 연도 없는 형식 → 올해로 보정\n",
    "    m = re.search(r'(\\d{1,2})[.]\\s*(\\d{1,2})[.]', s)\n",
    "    if m:\n",
    "        y = now.year\n",
    "        mth, d = int(m.group(1)), int(m.group(2))\n",
    "        try:\n",
    "            return int(datetime.date(y, mth, d).strftime('%Y%m%d'))\n",
    "        except:\n",
    "            pass\n",
    "\n",
    "    # 숫자 8자리만 온 경우\n",
    "    if re.fullmatch(r'\\d{8}', s):\n",
    "        return int(s)\n",
    "    return None\n",
    "\n",
    "# ---------------------------\n",
    "# place_id: URL에서 숫자\n",
    "# ---------------------------\n",
    "def extract_place_id(url: str):\n",
    "    if not url:\n",
    "        return None\n",
    "    m = re.search(r'/restaurant/(\\d+)', url)\n",
    "    return m.group(1) if m else None\n",
    "\n",
    "# ---------------------------\n",
    "# Home: 가게명, 카테고리, 방문자/블로그 리뷰수, 설명(XtBbS)\n",
    "# ---------------------------\n",
    "def scrape_home(driver, place_id):\n",
    "    if not place_id:\n",
    "        return None, None, None, None, None\n",
    "        \n",
    "    home_url = f\"https://m.place.naver.com/restaurant/{place_id}/home\"\n",
    "    try:\n",
    "        driver.get(home_url)\n",
    "        driver.implicitly_wait(5)\n",
    "\n",
    "        place_name = None\n",
    "        category = None\n",
    "        visitor_count, blog_count = None, None\n",
    "        soup = None\n",
    "\n",
    "        try:\n",
    "            WebDriverWait(driver, 6).until(\n",
    "                EC.presence_of_element_located((By.CSS_SELECTOR, '#_title'))\n",
    "            )\n",
    "            html = driver.page_source\n",
    "            soup = BeautifulSoup(html, 'lxml')\n",
    "\n",
    "            # #_title 하위 span들: [0]=상호, [1]=카테고리 (스크린샷 기준)\n",
    "            spans = soup.select('#_title span')\n",
    "            if spans:\n",
    "                place_name = spans[0].get_text(strip=True) if len(spans) >= 1 else None\n",
    "                category = spans[1].get_text(strip=True) if len(spans) >= 2 else None\n",
    "\n",
    "            # 보강: 클래스 기반 (상호=GHAhO, 카테고리=lnJfT)\n",
    "            if not place_name:\n",
    "                el = soup.select_one('#_title span.GHAhO')\n",
    "                if el: place_name = el.get_text(strip=True)\n",
    "            if not category:\n",
    "                el = soup.select_one('#_title span.lnJfT')\n",
    "                if el: category = el.get_text(strip=True)\n",
    "        except:\n",
    "            pass\n",
    "\n",
    "        # 방문자/블로그 리뷰수\n",
    "        try:\n",
    "            if soup is None:\n",
    "                soup = BeautifulSoup(driver.page_source, 'lxml')\n",
    "            a_visitor = soup.select_one('a[href*=\"/review/visitor\"]')\n",
    "            if a_visitor:\n",
    "                t = a_visitor.get_text(\" \", strip=True)\n",
    "                m = re.search(r'(\\d[\\d,]*)', t)\n",
    "                if m: visitor_count = int(m.group(1).replace(',', ''))\n",
    "\n",
    "            a_blog = soup.select_one('a[href*=\"/review/ugc\"]')\n",
    "            if a_blog:\n",
    "                t = a_blog.get_text(\" \", strip=True)\n",
    "                m = re.search(r'(\\d[\\d,]*)', t)\n",
    "                if m: blog_count = int(m.group(1).replace(',', ''))\n",
    "        except:\n",
    "            pass\n",
    "\n",
    "        # 부가 설명(XtBbS)\n",
    "        description = None\n",
    "        try:\n",
    "            if soup is None:\n",
    "                soup = BeautifulSoup(driver.page_source, 'lxml')\n",
    "            desc_div = soup.select_one('div.XtBbS')\n",
    "            if desc_div:\n",
    "                description = desc_div.get_text(\" \", strip=True)\n",
    "        except:\n",
    "            pass\n",
    "\n",
    "        return place_name, category, visitor_count, blog_count, description\n",
    "    except Exception as e:\n",
    "        print(f\"❌ Home 스크래핑 오류: {e}\")\n",
    "        return None, None, None, None, None\n",
    "\n",
    "# ---------------------------\n",
    "# 리뷰(방문자): 추천순 클릭 후 상위 N개 (본문만 추출)\n",
    "# ---------------------------\n",
    "CONTENT_SELECTORS = [\n",
    "    # 펼쳐진 본문(\"접기\") 버튼 내부: 보통 여기에 전체 텍스트가 노출됨\n",
    "    'a[role=\"button\"][data-pui-click-code*=\"howless\"]',\n",
    "    # 아직 안 펼쳤을 때 버튼 내부 텍스트(간혹 본문 전체가 들어오기도 함)\n",
    "    'a[role=\"button\"][data-pui-click-code*=\"rvsho\"]',\n",
    "    # 과거 구조(예시)\n",
    "    'div.pui__vn15t2 a[role=\"button\"]',\n",
    "    # 일반 div/p 폴백\n",
    "    'div',\n",
    "    'p',\n",
    "]\n",
    "\n",
    "def extract_review_text_from_li(li):\n",
    "    for sel in CONTENT_SELECTORS:\n",
    "        node = li.select_one(sel)\n",
    "        if node and node.get_text(strip=True):\n",
    "            txt = node.get_text(\" \", strip=True)\n",
    "            # 프로필/메타(\"리뷰 123 사진 45 …\")가 들어온 경우를 걸러내기 위한 간단 휴리스틱:\n",
    "            # 문장부호·조사·어절이 거의 없으면 스킵\n",
    "            if re.search(r'[.!?…]|[가-힣]{2,}', txt):\n",
    "                return re.sub(r'\\s+', ' ', txt)\n",
    "    return None\n",
    "\n",
    "def scrape_reviews_recommended(driver, visitor_url, n=10, max_scrolls=6):\n",
    "    if not visitor_url:\n",
    "        return []\n",
    "        \n",
    "    try:\n",
    "        driver.get(visitor_url)\n",
    "        driver.implicitly_wait(5)\n",
    "\n",
    "        # 추천순 클릭\n",
    "        try:\n",
    "            btn = WebDriverWait(driver, 5).until(\n",
    "                EC.element_to_be_clickable((By.XPATH, '//a[@role=\"button\"][contains(., \"추천순\")]'))\n",
    "            )\n",
    "            driver.execute_script(\"arguments[0].click();\", btn)\n",
    "            time.sleep(1.0)\n",
    "        except:\n",
    "            pass\n",
    "\n",
    "        # 스크롤하면서 각 li 안의 더보기(rvsho*) 모두 클릭\n",
    "        for _ in range(max_scrolls):\n",
    "            try:\n",
    "                more_btns = driver.find_elements(\n",
    "                    By.XPATH,\n",
    "                    '//a[@role=\"button\" and contains(@data-pui-click-code,\"rvsho\")]'\n",
    "                )\n",
    "                for b in more_btns:\n",
    "                    try:\n",
    "                        driver.execute_script(\"arguments[0].click();\", b)\n",
    "                        time.sleep(0.05)\n",
    "                    except:\n",
    "                        pass\n",
    "            except:\n",
    "                pass\n",
    "            driver.execute_script(\"window.scrollTo(0, document.body.scrollHeight);\")\n",
    "            time.sleep(0.6)\n",
    "\n",
    "        soup = BeautifulSoup(driver.page_source, 'lxml')\n",
    "        items = soup.select('ul#_review_list > li')\n",
    "        reviews = []\n",
    "\n",
    "        for li in items:\n",
    "            # 본문만 가져오기\n",
    "            text = extract_review_text_from_li(li)\n",
    "\n",
    "            # 시간\n",
    "            t_el = li.select_one('time[aria-hidden=\"true\"]') or li.find('time')\n",
    "            t_txt = t_el.get_text(strip=True) if t_el else None\n",
    "            t_int = parse_date_to_yyyymmdd(t_txt)\n",
    "\n",
    "            if text:\n",
    "                reviews.append({\"time\": t_int, \"text\": text})\n",
    "            if len(reviews) >= n:\n",
    "                break\n",
    "\n",
    "        return reviews\n",
    "    except Exception as e:\n",
    "        print(f\"❌ 리뷰 스크래핑 오류: {e}\")\n",
    "        return []\n",
    "\n",
    "def setup_driver():\n",
    "    \"\"\"Chrome 드라이버 설정\"\"\"\n",
    "    options = webdriver.ChromeOptions()\n",
    "    options.add_argument('window-size=1920x1080')\n",
    "    options.add_argument('--force-device-scale-factor=0.4')\n",
    "    options.add_argument(\"disable-gpu\")\n",
    "    # 헤드리스 모드 (선택사항)\n",
    "    # options.add_argument('--headless')\n",
    "    \n",
    "    return webdriver.Chrome(options=options)\n",
    "\n",
    "def process_jsonl():\n",
    "    \"\"\"JSONL 파일 처리\"\"\"\n",
    "    \n",
    "    # 입력 파일 읽기\n",
    "    records = []\n",
    "    with open(INPUT_JSONL, 'r', encoding='utf-8') as f:\n",
    "        for line in f:\n",
    "            if line.strip():\n",
    "                records.append(json.loads(line))\n",
    "    \n",
    "    print(f\"📊 총 처리할 항목: {len(records)}개\")\n",
    "    \n",
    "    processed = 0\n",
    "    success = 0\n",
    "    failed = 0\n",
    "    \n",
    "    # 출력 파일 열기\n",
    "    with open(OUTPUT_JSONL, 'w', encoding='utf-8') as outfile:\n",
    "        \n",
    "        for i, record in enumerate(tqdm(records, desc=\"🔍 리뷰 크롤링 중\")):\n",
    "            driver = None\n",
    "            \n",
    "            try:\n",
    "                place_name = record.get('place_name', 'Unknown')\n",
    "                place_id = record.get('place_id')\n",
    "                url = record.get('url', '')\n",
    "                \n",
    "                print(f\"\\n📍 처리중 ({i+1}/{len(records)}): {place_name} (ID: {place_id})\")\n",
    "                \n",
    "                # place_id가 없으면 URL에서 추출 시도\n",
    "                if not place_id:\n",
    "                    place_id = extract_place_id(url)\n",
    "                \n",
    "                if not place_id:\n",
    "                    print(\"❌ place_id를 찾을 수 없습니다\")\n",
    "                    outfile.write(json.dumps(record, ensure_ascii=False) + '\\n')\n",
    "                    failed += 1\n",
    "                    continue\n",
    "                \n",
    "                # 드라이버 설정\n",
    "                driver = setup_driver()\n",
    "                driver.implicitly_wait(5)\n",
    "                \n",
    "                # Home 페이지에서 정보 수집\n",
    "                p_name, category, v_cnt, b_cnt, description = scrape_home(driver, place_id)\n",
    "                \n",
    "                # 기존 값 업데이트\n",
    "                if category:\n",
    "                    record['sub_category'] = category\n",
    "                    print(f\"✅ sub_category: {category}\")\n",
    "                \n",
    "                if v_cnt is not None:\n",
    "                    record['visiter_review_count'] = int(v_cnt)\n",
    "                    print(f\"✅ visiter_review_count: {v_cnt}\")\n",
    "                \n",
    "                if b_cnt is not None:\n",
    "                    record['blog_review_count'] = int(b_cnt)\n",
    "                    print(f\"✅ blog_review_count: {b_cnt}\")\n",
    "                \n",
    "                # 리뷰 수집\n",
    "                if url:\n",
    "                    reviews = scrape_reviews_recommended(\n",
    "                        driver, url, n=REVIEW_LIMIT, max_scrolls=MAX_SCROLLS\n",
    "                    )\n",
    "                    record['reviews_attraction'] = reviews\n",
    "                    print(f\"✅ reviews_attraction: {len(reviews)}개 수집\")\n",
    "                else:\n",
    "                    print(\"❌ URL이 없어 리뷰 수집 불가\")\n",
    "                \n",
    "                success += 1\n",
    "                \n",
    "            except Exception as e:\n",
    "                print(f\"❌ 처리 오류: {e}\")\n",
    "                failed += 1\n",
    "            \n",
    "            finally:\n",
    "                if driver:\n",
    "                    try:\n",
    "                        driver.quit()\n",
    "                    except:\n",
    "                        pass\n",
    "                \n",
    "                # 레코드 저장\n",
    "                outfile.write(json.dumps(record, ensure_ascii=False) + '\\n')\n",
    "                processed += 1\n",
    "                \n",
    "                # 잠시 대기 (차단 방지)\n",
    "                time.sleep(1)\n",
    "    \n",
    "    print(\"\\n\" + \"=\"*60)\n",
    "    print(\"🎉 크롤링 완료!\")\n",
    "    print(f\"📊 결과 통계:\")\n",
    "    print(f\"   - 총 처리: {processed}개\")\n",
    "    print(f\"   - 성공: {success}개\")\n",
    "    print(f\"   - 실패: {failed}개\")\n",
    "    print(f\"📁 저장 위치: {OUTPUT_JSONL}\")\n",
    "    print(\"=\"*60)\n",
    "\n",
    "def test_single_item():\n",
    "    \"\"\"단일 항목 테스트\"\"\"\n",
    "    with open(INPUT_JSONL, 'r', encoding='utf-8') as f:\n",
    "        first_line = f.readline()\n",
    "        if first_line.strip():\n",
    "            record = json.loads(first_line)\n",
    "            \n",
    "            print(\"🧪 테스트 항목:\")\n",
    "            print(f\"   place_name: {record.get('place_name')}\")\n",
    "            print(f\"   place_id: {record.get('place_id')}\")\n",
    "            print(f\"   url: {record.get('url')}\")\n",
    "            \n",
    "            driver = setup_driver()\n",
    "            \n",
    "            try:\n",
    "                place_id = record.get('place_id')\n",
    "                url = record.get('url')\n",
    "                \n",
    "                if not place_id:\n",
    "                    place_id = extract_place_id(url)\n",
    "                \n",
    "                if place_id:\n",
    "                    print(f\"\\n🏠 Home 정보 수집 중...\")\n",
    "                    p_name, category, v_cnt, b_cnt, desc = scrape_home(driver, place_id)\n",
    "                    print(f\"   카테고리: {category}\")\n",
    "                    print(f\"   방문자 리뷰: {v_cnt}\")\n",
    "                    print(f\"   블로그 리뷰: {b_cnt}\")\n",
    "                    \n",
    "                    print(f\"\\n📝 리뷰 수집 중...\")\n",
    "                    reviews = scrape_reviews_recommended(driver, url, n=3, max_scrolls=2)\n",
    "                    print(f\"   수집된 리뷰: {len(reviews)}개\")\n",
    "                    for i, r in enumerate(reviews[:2]):\n",
    "                        print(f\"   리뷰 {i+1}: {r['text'][:50]}...\")\n",
    "                \n",
    "            finally:\n",
    "                driver.quit()\n",
    "\n",
    "if __name__ == \"__main__\":\n",
    "    print(\"🚀 JSONL 네이버 플레이스 리뷰 크롤러\")\n",
    "    print(\"=\"*60)\n",
    "    \n",
    "    import sys\n",
    "    if len(sys.argv) > 1 and sys.argv[1] == \"test\":\n",
    "        test_single_item()\n",
    "    else:\n",
    "        process_jsonl()"
   ]
  },
  {
   "cell_type": "code",
   "execution_count": null,
   "id": "8a989f41",
   "metadata": {},
   "outputs": [],
   "source": []
  }
 ],
 "metadata": {
  "kernelspec": {
   "display_name": "mlstudy",
   "language": "python",
   "name": "python3"
  },
  "language_info": {
   "codemirror_mode": {
    "name": "ipython",
    "version": 3
   },
   "file_extension": ".py",
   "mimetype": "text/x-python",
   "name": "python",
   "nbconvert_exporter": "python",
   "pygments_lexer": "ipython3",
   "version": "3.10.18"
  }
 },
 "nbformat": 4,
 "nbformat_minor": 5
}
